{
 "cells": [
  {
   "cell_type": "markdown",
   "metadata": {},
   "source": [
    "# Отчет о выполненном проекте"
   ]
  },
  {
   "cell_type": "code",
   "execution_count": 15,
   "metadata": {},
   "outputs": [],
   "source": [
    "from __future__ import division, print_function\n",
    "# отключим всякие предупреждения Anaconda\n",
    "\n",
    "import re\n",
    "import pickle\n",
    "import os\n",
    "from glob import glob\n",
    "import warnings\n",
    "from tqdm import tqdm\n",
    "warnings.filterwarnings('ignore')\n",
    "\n",
    "import pandas as pd\n",
    "import numpy as np\n",
    "from scipy.sparse import csr_matrix\n",
    "\n",
    "import matplotlib.pyplot as plt\n",
    "import seaborn as sns\n",
    "\n",
    "from sklearn.metrics import roc_auc_score\n",
    "from sklearn.linear_model import SGDClassifier, LogisticRegression\n",
    "from sklearn.model_selection import train_test_split, GridSearchCV\n",
    "from sklearn.model_selection import TimeSeriesSplit, cross_val_score\n",
    "\n",
    "from sklearn.feature_extraction.text import CountVectorizer, TfidfTransformer\n",
    "from sklearn.preprocessing import StandardScaler\n",
    "from sklearn.feature_selection import SelectFromModel\n",
    "\n",
    "from collections import Counter\n"
   ]
  },
  {
   "cell_type": "markdown",
   "metadata": {},
   "source": [
    "# Цели и задачи проекта"
   ]
  },
  {
   "cell_type": "markdown",
   "metadata": {},
   "source": [
    "В данном проекте решается задача идентификации пользователя.\n",
    " \n",
    "По последовательности из нескольких веб-сайтов, посещенных подряд один и тем же человеком, мы будем идентифицировать этого человека. Идея такая: пользователи Интернета по-разному переходят по ссылкам, и это может помогать их идентифицировать (кто-то сначала в почту, потом про футбол почитать, затем новости, контакт, потом наконец – работать, кто-то – сразу работать)."
   ]
  },
  {
   "cell_type": "markdown",
   "metadata": {},
   "source": [
    "# Описание исходных данных и признаков."
   ]
  },
  {
   "cell_type": "markdown",
   "metadata": {},
   "source": [
    "Данные представлены в виде таблиц со 3мя признаками: время и сайт, на который кликнул пользователь, id пользователя в названии файла.\n",
    "Например,"
   ]
  },
  {
   "cell_type": "code",
   "execution_count": 9,
   "metadata": {},
   "outputs": [
    {
     "data": {
      "text/html": [
       "<div>\n",
       "<style scoped>\n",
       "    .dataframe tbody tr th:only-of-type {\n",
       "        vertical-align: middle;\n",
       "    }\n",
       "\n",
       "    .dataframe tbody tr th {\n",
       "        vertical-align: top;\n",
       "    }\n",
       "\n",
       "    .dataframe thead th {\n",
       "        text-align: right;\n",
       "    }\n",
       "</style>\n",
       "<table border=\"1\" class=\"dataframe\">\n",
       "  <thead>\n",
       "    <tr style=\"text-align: right;\">\n",
       "      <th></th>\n",
       "      <th>timestamp</th>\n",
       "      <th>site</th>\n",
       "    </tr>\n",
       "  </thead>\n",
       "  <tbody>\n",
       "    <tr>\n",
       "      <th>0</th>\n",
       "      <td>2013-11-15 08:12:07</td>\n",
       "      <td>fpdownload2.macromedia.com</td>\n",
       "    </tr>\n",
       "    <tr>\n",
       "      <th>1</th>\n",
       "      <td>2013-11-15 08:12:17</td>\n",
       "      <td>laposte.net</td>\n",
       "    </tr>\n",
       "    <tr>\n",
       "      <th>2</th>\n",
       "      <td>2013-11-15 08:12:17</td>\n",
       "      <td>www.laposte.net</td>\n",
       "    </tr>\n",
       "    <tr>\n",
       "      <th>3</th>\n",
       "      <td>2013-11-15 08:12:17</td>\n",
       "      <td>www.google.com</td>\n",
       "    </tr>\n",
       "    <tr>\n",
       "      <th>4</th>\n",
       "      <td>2013-11-15 08:12:18</td>\n",
       "      <td>www.laposte.net</td>\n",
       "    </tr>\n",
       "  </tbody>\n",
       "</table>\n",
       "</div>"
      ],
      "text/plain": [
       "             timestamp                        site\n",
       "0  2013-11-15 08:12:07  fpdownload2.macromedia.com\n",
       "1  2013-11-15 08:12:17                 laposte.net\n",
       "2  2013-11-15 08:12:17             www.laposte.net\n",
       "3  2013-11-15 08:12:17              www.google.com\n",
       "4  2013-11-15 08:12:18             www.laposte.net"
      ]
     },
     "execution_count": 9,
     "metadata": {},
     "output_type": "execute_result"
    }
   ],
   "source": [
    "PATH_TO_DATA = 'capstone_user_identification'\n",
    "user31_data = pd.read_csv(os.path.join(PATH_TO_DATA, \n",
    "                                       '10users/user0031.csv'))\n",
    "user31_data.head()"
   ]
  },
  {
   "cell_type": "markdown",
   "metadata": {},
   "source": [
    "# Описание обработанных данных и признаков"
   ]
  },
  {
   "cell_type": "markdown",
   "metadata": {},
   "source": [
    "Данные собираются со следующей идеей.\n",
    "\n",
    "Пользователь ведет сессию - комбинация определенного количества сайтов, например, из 10, или комбинация сайтов за определенное время, например,за 30 минут, но так же максимальное количество сайтов ограничено сверху."
   ]
  },
  {
   "cell_type": "code",
   "execution_count": 26,
   "metadata": {},
   "outputs": [
    {
     "data": {
      "text/html": [
       "<div>\n",
       "<style scoped>\n",
       "    .dataframe tbody tr th:only-of-type {\n",
       "        vertical-align: middle;\n",
       "    }\n",
       "\n",
       "    .dataframe tbody tr th {\n",
       "        vertical-align: top;\n",
       "    }\n",
       "\n",
       "    .dataframe thead th {\n",
       "        text-align: right;\n",
       "    }\n",
       "</style>\n",
       "<table border=\"1\" class=\"dataframe\">\n",
       "  <thead>\n",
       "    <tr style=\"text-align: right;\">\n",
       "      <th></th>\n",
       "      <th>site1</th>\n",
       "      <th>site2</th>\n",
       "      <th>site3</th>\n",
       "      <th>site4</th>\n",
       "      <th>site5</th>\n",
       "      <th>site6</th>\n",
       "      <th>site7</th>\n",
       "      <th>site8</th>\n",
       "      <th>site9</th>\n",
       "      <th>site10</th>\n",
       "      <th>uid</th>\n",
       "    </tr>\n",
       "    <tr>\n",
       "      <th>session_id</th>\n",
       "      <th></th>\n",
       "      <th></th>\n",
       "      <th></th>\n",
       "      <th></th>\n",
       "      <th></th>\n",
       "      <th></th>\n",
       "      <th></th>\n",
       "      <th></th>\n",
       "      <th></th>\n",
       "      <th></th>\n",
       "      <th></th>\n",
       "    </tr>\n",
       "  </thead>\n",
       "  <tbody>\n",
       "    <tr>\n",
       "      <th>0</th>\n",
       "      <td>60</td>\n",
       "      <td>60</td>\n",
       "      <td>265</td>\n",
       "      <td>39</td>\n",
       "      <td>39</td>\n",
       "      <td>69</td>\n",
       "      <td>160</td>\n",
       "      <td>69</td>\n",
       "      <td>67</td>\n",
       "      <td>67</td>\n",
       "      <td>100</td>\n",
       "    </tr>\n",
       "    <tr>\n",
       "      <th>1</th>\n",
       "      <td>72</td>\n",
       "      <td>15</td>\n",
       "      <td>207</td>\n",
       "      <td>574</td>\n",
       "      <td>534</td>\n",
       "      <td>23</td>\n",
       "      <td>37</td>\n",
       "      <td>23</td>\n",
       "      <td>80</td>\n",
       "      <td>85</td>\n",
       "      <td>100</td>\n",
       "    </tr>\n",
       "    <tr>\n",
       "      <th>2</th>\n",
       "      <td>52</td>\n",
       "      <td>37</td>\n",
       "      <td>23</td>\n",
       "      <td>37</td>\n",
       "      <td>23</td>\n",
       "      <td>23</td>\n",
       "      <td>39</td>\n",
       "      <td>39</td>\n",
       "      <td>69</td>\n",
       "      <td>69</td>\n",
       "      <td>100</td>\n",
       "    </tr>\n",
       "    <tr>\n",
       "      <th>3</th>\n",
       "      <td>160</td>\n",
       "      <td>69</td>\n",
       "      <td>69</td>\n",
       "      <td>160</td>\n",
       "      <td>39</td>\n",
       "      <td>69</td>\n",
       "      <td>160</td>\n",
       "      <td>39</td>\n",
       "      <td>39</td>\n",
       "      <td>81</td>\n",
       "      <td>100</td>\n",
       "    </tr>\n",
       "    <tr>\n",
       "      <th>4</th>\n",
       "      <td>164</td>\n",
       "      <td>310</td>\n",
       "      <td>164</td>\n",
       "      <td>167</td>\n",
       "      <td>182</td>\n",
       "      <td>161</td>\n",
       "      <td>161</td>\n",
       "      <td>167</td>\n",
       "      <td>61</td>\n",
       "      <td>81</td>\n",
       "      <td>100</td>\n",
       "    </tr>\n",
       "  </tbody>\n",
       "</table>\n",
       "</div>"
      ],
      "text/plain": [
       "            site1  site2  site3  site4  site5  site6  site7  site8  site9  \\\n",
       "session_id                                                                  \n",
       "0              60     60    265     39     39     69    160     69     67   \n",
       "1              72     15    207    574    534     23     37     23     80   \n",
       "2              52     37     23     37     23     23     39     39     69   \n",
       "3             160     69     69    160     39     69    160     39     39   \n",
       "4             164    310    164    167    182    161    161    167     61   \n",
       "\n",
       "            site10  uid  \n",
       "session_id               \n",
       "0               67  100  \n",
       "1               85  100  \n",
       "2               69  100  \n",
       "3               81  100  \n",
       "4               81  100  "
      ]
     },
     "execution_count": 26,
     "metadata": {},
     "output_type": "execute_result"
    }
   ],
   "source": [
    "train_df = pd.read_csv(os.path.join(PATH_TO_DATA, 'train_data_10users.csv'), \n",
    "                       index_col='session_id')\n",
    "train_df.head()"
   ]
  },
  {
   "cell_type": "markdown",
   "metadata": {},
   "source": [
    "Таблица данных собирается по следующему принципу.\n",
    "\n",
    "Собирается словарь всех посещенных сайтов. Сайты сортируются по посещаемости. И индексируются.\n",
    "По словарю собирается таблица сессий. Так же подтягиваются времена посещения сайтов."
   ]
  },
  {
   "cell_type": "markdown",
   "metadata": {},
   "source": [
    "# Первичный анализ признаков"
   ]
  },
  {
   "cell_type": "markdown",
   "metadata": {},
   "source": [
    "По полученным даннм можно провести первичный анализ. Например, попытаться ответить на несколько вопросов.\n",
    "\n",
    "*Посчитаем распределение числа уникальных сайтов в каждой сессии из 10 посещенных подряд сайтов.*\n",
    "\n",
    "*Каков 95% доверительный интервал Уилсона для доли случаев, когда пользователь повторно посетил какой-то сайт*"
   ]
  },
  {
   "cell_type": "markdown",
   "metadata": {},
   "source": [
    "Отвечая на данные вопросы, можно понять, дает ли данный набор данных основания полагать, что за каждым пользователем наблюдается какое-то характерное поведение."
   ]
  },
  {
   "cell_type": "markdown",
   "metadata": {},
   "source": [
    "# Первичный визуальный анализ признаков"
   ]
  },
  {
   "cell_type": "markdown",
   "metadata": {},
   "source": [
    "Визуальный анализ дает качественный анализ на состоятельность тех или иных признаков, нахождение новых закономерностей."
   ]
  },
  {
   "cell_type": "code",
   "execution_count": 36,
   "metadata": {},
   "outputs": [],
   "source": [
    "sites = ['site%d' % i for i in range(1, 11)]\n",
    "times = ['time%d' % i for i in range(1, 11)]"
   ]
  },
  {
   "cell_type": "code",
   "execution_count": 37,
   "metadata": {},
   "outputs": [],
   "source": [
    "train_df = pd.read_csv(os.path.join(PATH_TO_DATA, 'train_sessions.csv'),\n",
    "                       index_col='session_id', parse_dates=times)\n",
    "test_df = pd.read_csv(os.path.join(PATH_TO_DATA, 'test_sessions.csv'),\n",
    "                      index_col='session_id', parse_dates=times)"
   ]
  },
  {
   "cell_type": "markdown",
   "metadata": {},
   "source": [
    "Для создания векторов-счетчиков сайтов используется CountVectorizer"
   ]
  },
  {
   "cell_type": "code",
   "execution_count": 116,
   "metadata": {},
   "outputs": [],
   "source": [
    "def get_sparse(X, nr=(1, 1), tp='\\w+'):\n",
    "    # Determine vocabulary_ of Counting ngrams\n",
    "    vectorizer = CountVectorizer(\n",
    "        ngram_range=nr, token_pattern=tp)\n",
    "    vectorizer.fit_transform(\n",
    "        [\" \".join(map(str, row)) for row in X])\n",
    "    voc = vectorizer.vocabulary_\n",
    "    # Remove '0's from vocabulary_\n",
    "    remove = [k for k in voc.keys() if (\n",
    "        len(re.findall(r'(^0$)|( 0 )|(^0 )', k)))]\n",
    "    for k in remove:\n",
    "        del voc[k]\n",
    "    # Reindexing\n",
    "    ind = 0\n",
    "    for k in voc:\n",
    "        voc[k] = ind\n",
    "        ind += 1\n",
    "    # Transform again with new vocabulary\n",
    "    vectorizer = CountVectorizer(\n",
    "        ngram_range=nr, token_pattern=tp, vocabulary=voc)\n",
    "    return (vectorizer.fit_transform(\n",
    "        [\" \".join(map(str, row)) for row in X]), vectorizer.vocabulary_)"
   ]
  },
  {
   "cell_type": "markdown",
   "metadata": {},
   "source": [
    "Sort data by time for correct validation"
   ]
  },
  {
   "cell_type": "code",
   "execution_count": 30,
   "metadata": {},
   "outputs": [],
   "source": [
    "train = train_df.sort_values(by='time1')\n",
    "y = train['target'].astype('uint8').values\n",
    "n = y.shape[0]\n",
    "train_test = pd.concat([train, test_df])"
   ]
  },
  {
   "cell_type": "code",
   "execution_count": 31,
   "metadata": {},
   "outputs": [
    {
     "name": "stdout",
     "output_type": "stream",
     "text": [
      "Max value for site id = 48371.0 < 2^16\n"
     ]
    },
    {
     "data": {
      "text/html": [
       "<div>\n",
       "<style scoped>\n",
       "    .dataframe tbody tr th:only-of-type {\n",
       "        vertical-align: middle;\n",
       "    }\n",
       "\n",
       "    .dataframe tbody tr th {\n",
       "        vertical-align: top;\n",
       "    }\n",
       "\n",
       "    .dataframe thead th {\n",
       "        text-align: right;\n",
       "    }\n",
       "</style>\n",
       "<table border=\"1\" class=\"dataframe\">\n",
       "  <thead>\n",
       "    <tr style=\"text-align: right;\">\n",
       "      <th></th>\n",
       "      <th>site1</th>\n",
       "      <th>site2</th>\n",
       "      <th>site3</th>\n",
       "      <th>site4</th>\n",
       "      <th>site5</th>\n",
       "      <th>site6</th>\n",
       "      <th>site7</th>\n",
       "      <th>site8</th>\n",
       "      <th>site9</th>\n",
       "      <th>site10</th>\n",
       "    </tr>\n",
       "    <tr>\n",
       "      <th>session_id</th>\n",
       "      <th></th>\n",
       "      <th></th>\n",
       "      <th></th>\n",
       "      <th></th>\n",
       "      <th></th>\n",
       "      <th></th>\n",
       "      <th></th>\n",
       "      <th></th>\n",
       "      <th></th>\n",
       "      <th></th>\n",
       "    </tr>\n",
       "  </thead>\n",
       "  <tbody>\n",
       "    <tr>\n",
       "      <th>21669</th>\n",
       "      <td>56</td>\n",
       "      <td>55</td>\n",
       "      <td>0</td>\n",
       "      <td>0</td>\n",
       "      <td>0</td>\n",
       "      <td>0</td>\n",
       "      <td>0</td>\n",
       "      <td>0</td>\n",
       "      <td>0</td>\n",
       "      <td>0</td>\n",
       "    </tr>\n",
       "    <tr>\n",
       "      <th>54843</th>\n",
       "      <td>56</td>\n",
       "      <td>55</td>\n",
       "      <td>56</td>\n",
       "      <td>55</td>\n",
       "      <td>0</td>\n",
       "      <td>0</td>\n",
       "      <td>0</td>\n",
       "      <td>0</td>\n",
       "      <td>0</td>\n",
       "      <td>0</td>\n",
       "    </tr>\n",
       "    <tr>\n",
       "      <th>77292</th>\n",
       "      <td>946</td>\n",
       "      <td>946</td>\n",
       "      <td>951</td>\n",
       "      <td>946</td>\n",
       "      <td>946</td>\n",
       "      <td>945</td>\n",
       "      <td>948</td>\n",
       "      <td>784</td>\n",
       "      <td>949</td>\n",
       "      <td>946</td>\n",
       "    </tr>\n",
       "    <tr>\n",
       "      <th>114021</th>\n",
       "      <td>945</td>\n",
       "      <td>948</td>\n",
       "      <td>949</td>\n",
       "      <td>948</td>\n",
       "      <td>945</td>\n",
       "      <td>946</td>\n",
       "      <td>947</td>\n",
       "      <td>945</td>\n",
       "      <td>946</td>\n",
       "      <td>946</td>\n",
       "    </tr>\n",
       "    <tr>\n",
       "      <th>146670</th>\n",
       "      <td>947</td>\n",
       "      <td>950</td>\n",
       "      <td>948</td>\n",
       "      <td>947</td>\n",
       "      <td>950</td>\n",
       "      <td>952</td>\n",
       "      <td>946</td>\n",
       "      <td>951</td>\n",
       "      <td>946</td>\n",
       "      <td>947</td>\n",
       "    </tr>\n",
       "  </tbody>\n",
       "</table>\n",
       "</div>"
      ],
      "text/plain": [
       "            site1  site2  site3  site4  site5  site6  site7  site8  site9  \\\n",
       "session_id                                                                  \n",
       "21669          56     55      0      0      0      0      0      0      0   \n",
       "54843          56     55     56     55      0      0      0      0      0   \n",
       "77292         946    946    951    946    946    945    948    784    949   \n",
       "114021        945    948    949    948    945    946    947    945    946   \n",
       "146670        947    950    948    947    950    952    946    951    946   \n",
       "\n",
       "            site10  \n",
       "session_id          \n",
       "21669            0  \n",
       "54843            0  \n",
       "77292          946  \n",
       "114021         946  \n",
       "146670         947  "
      ]
     },
     "execution_count": 31,
     "metadata": {},
     "output_type": "execute_result"
    }
   ],
   "source": [
    "train_test[sites] = train_test[sites].fillna(0)\n",
    "print(\"Max value for site id = {} < 2^16\".format(max(train_test[sites].max())))\n",
    "train_test[sites] = train_test[sites].astype('uint16')\n",
    "\n",
    "train_test[sites].head()"
   ]
  },
  {
   "cell_type": "code",
   "execution_count": 32,
   "metadata": {},
   "outputs": [],
   "source": [
    "train_test[times] = train_test[times].apply(pd.to_datetime)"
   ]
  },
  {
   "cell_type": "markdown",
   "metadata": {},
   "source": [
    "Из исходных меток времени извлекаются временные данные. День недели, час начала сессии. Время между сайтами, полное время сессии и тд."
   ]
  },
  {
   "cell_type": "code",
   "execution_count": 33,
   "metadata": {},
   "outputs": [],
   "source": [
    "diffs = ['diff%d' % i for i in range(1, 10)]"
   ]
  },
  {
   "cell_type": "code",
   "execution_count": 34,
   "metadata": {},
   "outputs": [],
   "source": [
    "for i, d in enumerate(diffs, start=1):\n",
    "    train_test[d] = (train_test[f\"time{i+1}\"]-train_test[f\"time{i}\"]).dt.seconds"
   ]
  },
  {
   "cell_type": "code",
   "execution_count": 35,
   "metadata": {},
   "outputs": [],
   "source": [
    "train_test['target'] = train_test['target'].fillna(-1)"
   ]
  },
  {
   "cell_type": "code",
   "execution_count": 36,
   "metadata": {},
   "outputs": [],
   "source": [
    "train_test['min'] = np.min(train_test[times], axis=1)\n",
    "train_test['max'] = np.max(train_test[times], axis=1)\n",
    "train_test['year'] = train_test['min'].dt.year\n",
    "train_test['month'] = train_test['min'].dt.month\n",
    "train_test['week'] = train_test['min'].dt.week\n",
    "train_test['hour'] = train_test['min'].dt.hour\n",
    "train_test['dayofweek'] = train_test['min'].dt.dayofweek\n",
    "train_test['time_span'] = (train_test['max']-train_test['min']).dt.seconds\n",
    "train_test['uniq'] =[len(set(row)-set([0])) for row in train_test[sites].values]"
   ]
  },
  {
   "cell_type": "markdown",
   "metadata": {},
   "source": [
    "Как разбросаны трейн и тест"
   ]
  },
  {
   "cell_type": "code",
   "execution_count": 37,
   "metadata": {},
   "outputs": [
    {
     "name": "stdout",
     "output_type": "stream",
     "text": [
      "2013-01-12 08:05:57 2014-04-30 23:39:53\n",
      "2014-05-01 17:14:03 2014-12-05 23:26:53\n"
     ]
    }
   ],
   "source": [
    "for t in [train_test['min'][:n],train_test['min'][n:]]:\n",
    "    print(np.min(t), np.max(t))"
   ]
  },
  {
   "cell_type": "markdown",
   "metadata": {},
   "source": [
    "Как разбросаны данные Alice"
   ]
  },
  {
   "cell_type": "code",
   "execution_count": 38,
   "metadata": {},
   "outputs": [
    {
     "name": "stdout",
     "output_type": "stream",
     "text": [
      "2013-02-12 16:25:10 2014-04-15 18:07:48\n"
     ]
    }
   ],
   "source": [
    "for t in [train_test[train_test.target == 1]['min'][:n]]:\n",
    "    print(np.min(t), np.max(t))"
   ]
  },
  {
   "cell_type": "code",
   "execution_count": 39,
   "metadata": {},
   "outputs": [],
   "source": [
    "train_test[diffs] = train_test[diffs].fillna(0)"
   ]
  },
  {
   "cell_type": "code",
   "execution_count": 40,
   "metadata": {},
   "outputs": [],
   "source": [
    "train_test['yyyymm'] = train_test['year']*100+train_test['month']\n",
    "train_test['yyyyww'] = train_test['year']*100+train_test['week']"
   ]
  },
  {
   "cell_type": "code",
   "execution_count": 41,
   "metadata": {},
   "outputs": [
    {
     "data": {
      "image/png": "[encoded data removed]",
      "text/plain": [
       "<Figure size 1080x576 with 1 Axes>"
      ]
     },
     "metadata": {},
     "output_type": "display_data"
    }
   ],
   "source": [
    "sns.set()\n",
    "plt.figure(figsize=(15, 8))\n",
    "X = train_test\n",
    "weeks = sorted(set(X['yyyyww']))\n",
    "\n",
    "sns.countplot(x=\"yyyyww\", data=X, hue='target')\n",
    "plt.xticks(range(len(weeks)), weeks, rotation=80)\n",
    "plt.title(\"Распределение данных по неделям\")\n",
    "plt.show()"
   ]
  },
  {
   "cell_type": "code",
   "execution_count": 42,
   "metadata": {
    "scrolled": false
   },
   "outputs": [
    {
     "data": {
      "image/png": "[encoded data removed]",
      "text/plain": [
       "<Figure size 1080x576 with 1 Axes>"
      ]
     },
     "metadata": {},
     "output_type": "display_data"
    }
   ],
   "source": [
    "sns.set()\n",
    "plt.figure(figsize=(15, 8))\n",
    "X = train_test[train_test.target == 1]\n",
    "weeks = sorted(set(X['yyyyww']))\n",
    "\n",
    "sns.countplot(x=\"yyyyww\", data=X, hue='target')\n",
    "plt.xticks(range(len(weeks)), weeks, rotation=80)\n",
    "plt.title(\"Распределение данных Alice по неделям\")\n",
    "plt.show()"
   ]
  },
  {
   "cell_type": "code",
   "execution_count": 43,
   "metadata": {},
   "outputs": [
    {
     "data": {
      "image/png": "[encoded data removed]",
      "text/plain": [
       "<Figure size 1080x576 with 1 Axes>"
      ]
     },
     "metadata": {},
     "output_type": "display_data"
    }
   ],
   "source": [
    "sns.set()\n",
    "plt.figure(figsize=(15, 8))\n",
    "X = train_test\n",
    "weeks = ['Пн', 'Вт', 'Ср', 'Чт', 'Пт', 'Сб', 'Вс'] \n",
    "\n",
    "sns.countplot(x=\"dayofweek\", data=X, hue='target')\n",
    "plt.xticks(range(len(weeks)), weeks, rotation=0)\n",
    "plt.title(\"Распределение данных по дням недели\")\n",
    "plt.show()"
   ]
  },
  {
   "cell_type": "code",
   "execution_count": 44,
   "metadata": {},
   "outputs": [
    {
     "data": {
      "image/png": "[encoded data removed]",
      "text/plain": [
       "<Figure size 1080x576 with 1 Axes>"
      ]
     },
     "metadata": {},
     "output_type": "display_data"
    }
   ],
   "source": [
    "sns.set()\n",
    "plt.figure(figsize=(15, 8))\n",
    "X = train_test[train_test.target == 1]\n",
    "weeks = ['Пн', 'Вт', 'Ср', 'Чт', 'Пт', 'Сб', 'Вс'] \n",
    "\n",
    "sns.countplot(x=\"dayofweek\", data=X, hue='target')\n",
    "plt.xticks(range(len(weeks)), weeks, rotation=80)\n",
    "plt.title(\"Распределение данных Alice по дням недели\")\n",
    "plt.show()"
   ]
  },
  {
   "cell_type": "code",
   "execution_count": 45,
   "metadata": {},
   "outputs": [],
   "source": [
    "train_test = train_test.drop(times+['min','max','year','month','yyyymm','yyyyww','week'],axis = 1)"
   ]
  },
  {
   "cell_type": "markdown",
   "metadata": {},
   "source": [
    "# Описание предобработки данных"
   ]
  },
  {
   "cell_type": "markdown",
   "metadata": {},
   "source": [
    "Вещественные признаки, которые имеют большой разброс лучше всего промасштабировать. В данном случае признаки центрируются по среднему и нормируются по отклонению."
   ]
  },
  {
   "cell_type": "code",
   "execution_count": 50,
   "metadata": {},
   "outputs": [],
   "source": [
    "to_scale = diffs+['time_span', 'uniq']\n",
    "train_test[to_scale] = StandardScaler().fit_transform(train_test[to_scale])"
   ]
  },
  {
   "cell_type": "markdown",
   "metadata": {},
   "source": [
    "Категориальные признаки приводятся к бинарным."
   ]
  },
  {
   "cell_type": "code",
   "execution_count": 52,
   "metadata": {},
   "outputs": [],
   "source": [
    "train_test = pd.get_dummies(train_test, columns=['hour'])\n",
    "train_test = pd.get_dummies(train_test, columns=['dayofweek'])"
   ]
  },
  {
   "cell_type": "code",
   "execution_count": 95,
   "metadata": {},
   "outputs": [
    {
     "data": {
      "text/html": [
       "<div>\n",
       "<style scoped>\n",
       "    .dataframe tbody tr th:only-of-type {\n",
       "        vertical-align: middle;\n",
       "    }\n",
       "\n",
       "    .dataframe tbody tr th {\n",
       "        vertical-align: top;\n",
       "    }\n",
       "\n",
       "    .dataframe thead th {\n",
       "        text-align: right;\n",
       "    }\n",
       "</style>\n",
       "<table border=\"1\" class=\"dataframe\">\n",
       "  <thead>\n",
       "    <tr style=\"text-align: right;\">\n",
       "      <th></th>\n",
       "      <th>diff3</th>\n",
       "      <th>diff5</th>\n",
       "      <th>diff7</th>\n",
       "      <th>diff9</th>\n",
       "      <th>dayofweek_0</th>\n",
       "      <th>hour_7</th>\n",
       "      <th>hour_18</th>\n",
       "      <th>hour_21</th>\n",
       "      <th>hour_22</th>\n",
       "      <th>hour_10</th>\n",
       "      <th>...</th>\n",
       "      <th>diff4</th>\n",
       "      <th>hour_13</th>\n",
       "      <th>hour_9</th>\n",
       "      <th>hour_14</th>\n",
       "      <th>hour_11</th>\n",
       "      <th>hour_23</th>\n",
       "      <th>dayofweek_3</th>\n",
       "      <th>dayofweek_5</th>\n",
       "      <th>hour_15</th>\n",
       "      <th>hour_8</th>\n",
       "    </tr>\n",
       "    <tr>\n",
       "      <th>session_id</th>\n",
       "      <th></th>\n",
       "      <th></th>\n",
       "      <th></th>\n",
       "      <th></th>\n",
       "      <th></th>\n",
       "      <th></th>\n",
       "      <th></th>\n",
       "      <th></th>\n",
       "      <th></th>\n",
       "      <th></th>\n",
       "      <th></th>\n",
       "      <th></th>\n",
       "      <th></th>\n",
       "      <th></th>\n",
       "      <th></th>\n",
       "      <th></th>\n",
       "      <th></th>\n",
       "      <th></th>\n",
       "      <th></th>\n",
       "      <th></th>\n",
       "      <th></th>\n",
       "    </tr>\n",
       "  </thead>\n",
       "  <tbody>\n",
       "    <tr>\n",
       "      <th>21669</th>\n",
       "      <td>-0.186043</td>\n",
       "      <td>-0.193099</td>\n",
       "      <td>-0.191254</td>\n",
       "      <td>-0.190587</td>\n",
       "      <td>0</td>\n",
       "      <td>0</td>\n",
       "      <td>0</td>\n",
       "      <td>0</td>\n",
       "      <td>0</td>\n",
       "      <td>0</td>\n",
       "      <td>...</td>\n",
       "      <td>-0.191959</td>\n",
       "      <td>0</td>\n",
       "      <td>0</td>\n",
       "      <td>0</td>\n",
       "      <td>0</td>\n",
       "      <td>0</td>\n",
       "      <td>0</td>\n",
       "      <td>1</td>\n",
       "      <td>0</td>\n",
       "      <td>1</td>\n",
       "    </tr>\n",
       "    <tr>\n",
       "      <th>54843</th>\n",
       "      <td>-0.164093</td>\n",
       "      <td>-0.193099</td>\n",
       "      <td>-0.191254</td>\n",
       "      <td>-0.190587</td>\n",
       "      <td>0</td>\n",
       "      <td>0</td>\n",
       "      <td>0</td>\n",
       "      <td>0</td>\n",
       "      <td>0</td>\n",
       "      <td>0</td>\n",
       "      <td>...</td>\n",
       "      <td>-0.191959</td>\n",
       "      <td>0</td>\n",
       "      <td>0</td>\n",
       "      <td>0</td>\n",
       "      <td>0</td>\n",
       "      <td>0</td>\n",
       "      <td>0</td>\n",
       "      <td>1</td>\n",
       "      <td>0</td>\n",
       "      <td>1</td>\n",
       "    </tr>\n",
       "    <tr>\n",
       "      <th>77292</th>\n",
       "      <td>-0.186043</td>\n",
       "      <td>-0.193099</td>\n",
       "      <td>-0.191254</td>\n",
       "      <td>-0.190587</td>\n",
       "      <td>0</td>\n",
       "      <td>0</td>\n",
       "      <td>0</td>\n",
       "      <td>0</td>\n",
       "      <td>0</td>\n",
       "      <td>0</td>\n",
       "      <td>...</td>\n",
       "      <td>-0.179286</td>\n",
       "      <td>0</td>\n",
       "      <td>0</td>\n",
       "      <td>0</td>\n",
       "      <td>0</td>\n",
       "      <td>0</td>\n",
       "      <td>0</td>\n",
       "      <td>1</td>\n",
       "      <td>0</td>\n",
       "      <td>1</td>\n",
       "    </tr>\n",
       "    <tr>\n",
       "      <th>114021</th>\n",
       "      <td>-0.186043</td>\n",
       "      <td>-0.193099</td>\n",
       "      <td>-0.191254</td>\n",
       "      <td>-0.175670</td>\n",
       "      <td>0</td>\n",
       "      <td>0</td>\n",
       "      <td>0</td>\n",
       "      <td>0</td>\n",
       "      <td>0</td>\n",
       "      <td>0</td>\n",
       "      <td>...</td>\n",
       "      <td>-0.191959</td>\n",
       "      <td>0</td>\n",
       "      <td>0</td>\n",
       "      <td>0</td>\n",
       "      <td>0</td>\n",
       "      <td>0</td>\n",
       "      <td>0</td>\n",
       "      <td>1</td>\n",
       "      <td>0</td>\n",
       "      <td>1</td>\n",
       "    </tr>\n",
       "    <tr>\n",
       "      <th>146670</th>\n",
       "      <td>-0.175068</td>\n",
       "      <td>-0.193099</td>\n",
       "      <td>-0.176950</td>\n",
       "      <td>-0.190587</td>\n",
       "      <td>0</td>\n",
       "      <td>0</td>\n",
       "      <td>0</td>\n",
       "      <td>0</td>\n",
       "      <td>0</td>\n",
       "      <td>0</td>\n",
       "      <td>...</td>\n",
       "      <td>-0.191959</td>\n",
       "      <td>0</td>\n",
       "      <td>0</td>\n",
       "      <td>0</td>\n",
       "      <td>0</td>\n",
       "      <td>0</td>\n",
       "      <td>0</td>\n",
       "      <td>1</td>\n",
       "      <td>0</td>\n",
       "      <td>1</td>\n",
       "    </tr>\n",
       "    <tr>\n",
       "      <th>...</th>\n",
       "      <td>...</td>\n",
       "      <td>...</td>\n",
       "      <td>...</td>\n",
       "      <td>...</td>\n",
       "      <td>...</td>\n",
       "      <td>...</td>\n",
       "      <td>...</td>\n",
       "      <td>...</td>\n",
       "      <td>...</td>\n",
       "      <td>...</td>\n",
       "      <td>...</td>\n",
       "      <td>...</td>\n",
       "      <td>...</td>\n",
       "      <td>...</td>\n",
       "      <td>...</td>\n",
       "      <td>...</td>\n",
       "      <td>...</td>\n",
       "      <td>...</td>\n",
       "      <td>...</td>\n",
       "      <td>...</td>\n",
       "      <td>...</td>\n",
       "    </tr>\n",
       "    <tr>\n",
       "      <th>82793</th>\n",
       "      <td>-0.186043</td>\n",
       "      <td>-0.193099</td>\n",
       "      <td>-0.191254</td>\n",
       "      <td>-0.190587</td>\n",
       "      <td>0</td>\n",
       "      <td>0</td>\n",
       "      <td>1</td>\n",
       "      <td>0</td>\n",
       "      <td>0</td>\n",
       "      <td>0</td>\n",
       "      <td>...</td>\n",
       "      <td>-0.191959</td>\n",
       "      <td>0</td>\n",
       "      <td>0</td>\n",
       "      <td>0</td>\n",
       "      <td>0</td>\n",
       "      <td>0</td>\n",
       "      <td>1</td>\n",
       "      <td>0</td>\n",
       "      <td>0</td>\n",
       "      <td>0</td>\n",
       "    </tr>\n",
       "    <tr>\n",
       "      <th>82794</th>\n",
       "      <td>-0.186043</td>\n",
       "      <td>-0.193099</td>\n",
       "      <td>-0.191254</td>\n",
       "      <td>-0.190587</td>\n",
       "      <td>1</td>\n",
       "      <td>0</td>\n",
       "      <td>0</td>\n",
       "      <td>0</td>\n",
       "      <td>0</td>\n",
       "      <td>0</td>\n",
       "      <td>...</td>\n",
       "      <td>0.251591</td>\n",
       "      <td>0</td>\n",
       "      <td>0</td>\n",
       "      <td>1</td>\n",
       "      <td>0</td>\n",
       "      <td>0</td>\n",
       "      <td>0</td>\n",
       "      <td>0</td>\n",
       "      <td>0</td>\n",
       "      <td>0</td>\n",
       "    </tr>\n",
       "    <tr>\n",
       "      <th>82795</th>\n",
       "      <td>-0.109217</td>\n",
       "      <td>-0.193099</td>\n",
       "      <td>-0.176950</td>\n",
       "      <td>-0.190587</td>\n",
       "      <td>0</td>\n",
       "      <td>0</td>\n",
       "      <td>0</td>\n",
       "      <td>0</td>\n",
       "      <td>0</td>\n",
       "      <td>0</td>\n",
       "      <td>...</td>\n",
       "      <td>-0.191959</td>\n",
       "      <td>0</td>\n",
       "      <td>0</td>\n",
       "      <td>0</td>\n",
       "      <td>1</td>\n",
       "      <td>0</td>\n",
       "      <td>0</td>\n",
       "      <td>0</td>\n",
       "      <td>0</td>\n",
       "      <td>0</td>\n",
       "    </tr>\n",
       "    <tr>\n",
       "      <th>82796</th>\n",
       "      <td>-0.186043</td>\n",
       "      <td>-0.179768</td>\n",
       "      <td>-0.176950</td>\n",
       "      <td>-0.190587</td>\n",
       "      <td>0</td>\n",
       "      <td>0</td>\n",
       "      <td>0</td>\n",
       "      <td>0</td>\n",
       "      <td>0</td>\n",
       "      <td>1</td>\n",
       "      <td>...</td>\n",
       "      <td>-0.077903</td>\n",
       "      <td>0</td>\n",
       "      <td>0</td>\n",
       "      <td>0</td>\n",
       "      <td>0</td>\n",
       "      <td>0</td>\n",
       "      <td>0</td>\n",
       "      <td>1</td>\n",
       "      <td>0</td>\n",
       "      <td>0</td>\n",
       "    </tr>\n",
       "    <tr>\n",
       "      <th>82797</th>\n",
       "      <td>-0.032390</td>\n",
       "      <td>-0.179768</td>\n",
       "      <td>-0.148342</td>\n",
       "      <td>-0.116001</td>\n",
       "      <td>0</td>\n",
       "      <td>0</td>\n",
       "      <td>0</td>\n",
       "      <td>0</td>\n",
       "      <td>0</td>\n",
       "      <td>1</td>\n",
       "      <td>...</td>\n",
       "      <td>-0.179286</td>\n",
       "      <td>0</td>\n",
       "      <td>0</td>\n",
       "      <td>0</td>\n",
       "      <td>0</td>\n",
       "      <td>0</td>\n",
       "      <td>0</td>\n",
       "      <td>0</td>\n",
       "      <td>0</td>\n",
       "      <td>0</td>\n",
       "    </tr>\n",
       "  </tbody>\n",
       "</table>\n",
       "<p>336358 rows × 35 columns</p>\n",
       "</div>"
      ],
      "text/plain": [
       "               diff3     diff5     diff7     diff9  dayofweek_0  hour_7  \\\n",
       "session_id                                                                \n",
       "21669      -0.186043 -0.193099 -0.191254 -0.190587            0       0   \n",
       "54843      -0.164093 -0.193099 -0.191254 -0.190587            0       0   \n",
       "77292      -0.186043 -0.193099 -0.191254 -0.190587            0       0   \n",
       "114021     -0.186043 -0.193099 -0.191254 -0.175670            0       0   \n",
       "146670     -0.175068 -0.193099 -0.176950 -0.190587            0       0   \n",
       "...              ...       ...       ...       ...          ...     ...   \n",
       "82793      -0.186043 -0.193099 -0.191254 -0.190587            0       0   \n",
       "82794      -0.186043 -0.193099 -0.191254 -0.190587            1       0   \n",
       "82795      -0.109217 -0.193099 -0.176950 -0.190587            0       0   \n",
       "82796      -0.186043 -0.179768 -0.176950 -0.190587            0       0   \n",
       "82797      -0.032390 -0.179768 -0.148342 -0.116001            0       0   \n",
       "\n",
       "            hour_18  hour_21  hour_22  hour_10  ...     diff4  hour_13  \\\n",
       "session_id                                      ...                      \n",
       "21669             0        0        0        0  ... -0.191959        0   \n",
       "54843             0        0        0        0  ... -0.191959        0   \n",
       "77292             0        0        0        0  ... -0.179286        0   \n",
       "114021            0        0        0        0  ... -0.191959        0   \n",
       "146670            0        0        0        0  ... -0.191959        0   \n",
       "...             ...      ...      ...      ...  ...       ...      ...   \n",
       "82793             1        0        0        0  ... -0.191959        0   \n",
       "82794             0        0        0        0  ...  0.251591        0   \n",
       "82795             0        0        0        0  ... -0.191959        0   \n",
       "82796             0        0        0        1  ... -0.077903        0   \n",
       "82797             0        0        0        1  ... -0.179286        0   \n",
       "\n",
       "            hour_9  hour_14  hour_11  hour_23  dayofweek_3  dayofweek_5  \\\n",
       "session_id                                                                \n",
       "21669            0        0        0        0            0            1   \n",
       "54843            0        0        0        0            0            1   \n",
       "77292            0        0        0        0            0            1   \n",
       "114021           0        0        0        0            0            1   \n",
       "146670           0        0        0        0            0            1   \n",
       "...            ...      ...      ...      ...          ...          ...   \n",
       "82793            0        0        0        0            1            0   \n",
       "82794            0        1        0        0            0            0   \n",
       "82795            0        0        1        0            0            0   \n",
       "82796            0        0        0        0            0            1   \n",
       "82797            0        0        0        0            0            0   \n",
       "\n",
       "            hour_15  hour_8  \n",
       "session_id                   \n",
       "21669             0       1  \n",
       "54843             0       1  \n",
       "77292             0       1  \n",
       "114021            0       1  \n",
       "146670            0       1  \n",
       "...             ...     ...  \n",
       "82793             0       0  \n",
       "82794             0       0  \n",
       "82795             0       0  \n",
       "82796             0       0  \n",
       "82797             0       0  \n",
       "\n",
       "[336358 rows x 35 columns]"
      ]
     },
     "execution_count": 95,
     "metadata": {},
     "output_type": "execute_result"
    }
   ],
   "source": [
    "generated_features = set(train_test.columns)-set(sites)-set(['target'])\n",
    "train_test[generated_features]"
   ]
  },
  {
   "cell_type": "code",
   "execution_count": 66,
   "metadata": {},
   "outputs": [
    {
     "data": {
      "text/plain": [
       "Index(['site1', 'site2', 'site3', 'site4', 'site5', 'site6', 'site7', 'site8',\n",
       "       'site9', 'site10', 'target', 'diff1', 'diff2', 'diff3', 'diff4',\n",
       "       'diff5', 'diff6', 'diff7', 'diff8', 'diff9', 'time_span', 'uniq',\n",
       "       'hour_7', 'hour_8', 'hour_9', 'hour_10', 'hour_11', 'hour_12',\n",
       "       'hour_13', 'hour_14', 'hour_15', 'hour_16', 'hour_17', 'hour_18',\n",
       "       'hour_19', 'hour_20', 'hour_21', 'hour_22', 'hour_23', 'dayofweek_0',\n",
       "       'dayofweek_1', 'dayofweek_2', 'dayofweek_3', 'dayofweek_4',\n",
       "       'dayofweek_5', 'dayofweek_6'],\n",
       "      dtype='object')"
      ]
     },
     "execution_count": 66,
     "metadata": {},
     "output_type": "execute_result"
    }
   ],
   "source": [
    "train_test.columns"
   ]
  },
  {
   "cell_type": "markdown",
   "metadata": {},
   "source": [
    "# Построение новых признаков"
   ]
  },
  {
   "cell_type": "markdown",
   "metadata": {},
   "source": [
    "В дальнейшем таблица сессий конвертируется в список векторов в пространстве сайтов. Получается набор данных вида \"мешок слов\".\n",
    "Признаками являются сайты (их id), в качестве координат стоят счетчики посещений сайтов в сессии.\n",
    "\n",
    "Так же в качестве признаков могут быть не только униграммы, но и биграммы и тд."
   ]
  },
  {
   "cell_type": "markdown",
   "metadata": {},
   "source": [
    "**Строим вектор сайтов и добавляем нграммы**"
   ]
  },
  {
   "cell_type": "code",
   "execution_count": 62,
   "metadata": {},
   "outputs": [],
   "source": [
    "def get_train_test_trainpart_valid(X, Y):\n",
    "    n = Y.shape[0]\n",
    "    n_part = int(0.7*n)\n",
    "    train, test = X[:n],  X[n:]\n",
    "    train_part, y_part = train[:n_part], Y[:n_part]\n",
    "    valid, y_valid = train[n_part:], Y[n_part:]\n",
    "    return train, test, train_part, y_part, valid, y_valid"
   ]
  },
  {
   "cell_type": "code",
   "execution_count": 71,
   "metadata": {},
   "outputs": [
    {
     "data": {
      "text/plain": [
       "(336358, 3688818)"
      ]
     },
     "execution_count": 71,
     "metadata": {},
     "output_type": "execute_result"
    }
   ],
   "source": [
    "train_test_sparse.shape"
   ]
  },
  {
   "cell_type": "markdown",
   "metadata": {},
   "source": [
    "#  Кросс-валидация, построение кривых валидации и обучения"
   ]
  },
  {
   "cell_type": "markdown",
   "metadata": {},
   "source": [
    "После предобработки данные разделяют окончательно на тестовую и обучаемую. На обучаемой алгоритм обучается, на тестовой выдает предсказания для новых объектов.\n",
    "Желательно обучаемую выборку также разделить на 2 части. На первой алгоритм обучается по, а на второй части валидируем его оценку предсказывать на данных, которые он никогда не видел.\n",
    "Помимо валидации проводят кросс-валидацию, проверяется предсказательная стабильность алгоритма на всей выборке."
   ]
  },
  {
   "cell_type": "code",
   "execution_count": 63,
   "metadata": {},
   "outputs": [],
   "source": [
    "def cross_val(model, X, Y):\n",
    "    # train model on train_part and get score on validation\n",
    "    print(f\"Number of features : {X.shape[1]}\")\n",
    "    train, test,  train_part, y_part, valid, y_valid = \\\n",
    "        get_train_test_trainpart_valid(X, Y)\n",
    "    model.fit(train_part, y_part)\n",
    "    predictions = model.predict_proba(valid)\n",
    "    auc = roc_auc_score(y_valid, predictions[:, 1])\n",
    "    print(f\"AUC score on valid part: {auc:.4f}\")\n",
    "\n",
    "    # train model on train set and get cv score\n",
    "    time_split = TimeSeriesSplit(n_splits=6)\n",
    "    model.fit(train, Y)\n",
    "    cv_scores = cross_val_score(model, train, Y, cv=time_split,\n",
    "                                scoring='roc_auc', n_jobs=1)\n",
    "    print(\n",
    "        f\"AUC score on cross-val: {cv_scores.mean():.4f} {cv_scores.std():.4f}\\n\")\n",
    "    return cv_scores"
   ]
  },
  {
   "cell_type": "code",
   "execution_count": 88,
   "metadata": {},
   "outputs": [],
   "source": [
    "def model_assessment(model, X, Y):\n",
    "    # Scores on X\n",
    "    cross_val(model, X, Y)\n",
    "\n",
    "    # Selection features\n",
    "    print(\"Selection :\")\n",
    "    selector = SelectFromModel(model, max_features=min(40000, X.shape[1])).fit(X[:Y.shape[0]], Y)\n",
    "    X_transformed=selector.transform(X)\n",
    "\n",
    "    # Scores on X-transformed\n",
    "    cross_val(model, X_transformed, Y)"
   ]
  },
  {
   "cell_type": "code",
   "execution_count": 118,
   "metadata": {},
   "outputs": [],
   "source": [
    "train_test_sparse, _ = get_sparse(train_test[sites].values, nr=(1, 4))"
   ]
  },
  {
   "cell_type": "markdown",
   "metadata": {},
   "source": [
    "# Оценка модели с описанием выбранной метрики. Опишите простыми словами качество модели, как она может применяться"
   ]
  },
  {
   "cell_type": "markdown",
   "metadata": {},
   "source": [
    "В данной модели выбрана метрика AUC.\n",
    "AUC ROC равен доле пар объектов вида (объект класса 1, объект класса 0), которые алгоритм верно упорядочил, т.е. первый объект идёт в упорядоченном списке раньше."
   ]
  },
  {
   "cell_type": "markdown",
   "metadata": {},
   "source": [
    "AUC ROC можно использовать для оценки качества признаков. Считаем, что значения признака — это ответы нашего алгоритма (не обязательно они должны быть нормированы на отрезок [0, 1], ведь нам важен порядок). Тогда выражение 2×|AUC_ROC — 0.5| вполне подойдёт для оценки качества признака: оно максимально, если по этому признаку 2 класса строго разделяются и минимально, если они «перемешаны»."
   ]
  },
  {
   "cell_type": "markdown",
   "metadata": {},
   "source": [
    "При изменении баланса классов величина AUC-ROC и неизменных свойствах объектов вы-борки площадь под ROC-кривой не изменится. В случае идеального алгоритма AUC−ROC= 1, а в случаехудшего AUC−ROC=0,5.Значение AUC−ROCимеет смысл вероятности того, что если были выбраны случайный положительный ислучайный отрицаельный объекты выборки, положительный объект получит оценку принадлежности выше,чем отрицательный объект."
   ]
  },
  {
   "cell_type": "markdown",
   "metadata": {},
   "source": [
    "В итоге, данная метрика стабильна относительно ввода большего количества пользователей, которые нарушают баланс классов."
   ]
  },
  {
   "cell_type": "markdown",
   "metadata": {},
   "source": [
    "### **SGD_logit**"
   ]
  },
  {
   "cell_type": "code",
   "execution_count": 68,
   "metadata": {
    "scrolled": true
   },
   "outputs": [],
   "source": [
    "sgd_logit = SGDClassifier(random_state=17, n_jobs=-1, loss='log')"
   ]
  },
  {
   "cell_type": "markdown",
   "metadata": {},
   "source": [
    "Проверяем оценку на векторе"
   ]
  },
  {
   "cell_type": "code",
   "execution_count": 89,
   "metadata": {
    "scrolled": false
   },
   "outputs": [
    {
     "name": "stdout",
     "output_type": "stream",
     "text": [
      "Number of features : 3688818\n",
      "AUC score on valid part: 0.8587\n",
      "AUC score on cross-val: 0.8330 0.1020\n",
      "\n",
      "Selection :\n",
      "Number of features : 40000\n",
      "AUC score on valid part: 0.8662\n",
      "AUC score on cross-val: 0.8401 0.0976\n",
      "\n"
     ]
    }
   ],
   "source": [
    "model_assessment(sgd_logit, train_test_sparse, y)"
   ]
  },
  {
   "cell_type": "markdown",
   "metadata": {},
   "source": [
    "Оценка над сгенерированными признаками"
   ]
  },
  {
   "cell_type": "code",
   "execution_count": 86,
   "metadata": {},
   "outputs": [
    {
     "name": "stdout",
     "output_type": "stream",
     "text": [
      "Number of features : 35\n",
      "AUC score on valid part: 0.9243\n",
      "AUC score on cross-val: 0.8842 0.0489\n",
      "\n",
      "Selection :\n",
      "Number of features : 12\n",
      "AUC score on valid part: 0.9338\n",
      "AUC score on cross-val: 0.8995 0.0510\n",
      "\n"
     ]
    }
   ],
   "source": [
    "model_assessment(sgd_logit, train_test[generated_features].values, y)"
   ]
  },
  {
   "cell_type": "code",
   "execution_count": 76,
   "metadata": {},
   "outputs": [
    {
     "data": {
      "text/plain": [
       "((336358, 3688818), (336358, 35))"
      ]
     },
     "execution_count": 76,
     "metadata": {},
     "output_type": "execute_result"
    }
   ],
   "source": [
    "train_test_sparse.shape, train_test[generated_features].shape"
   ]
  },
  {
   "cell_type": "code",
   "execution_count": 90,
   "metadata": {},
   "outputs": [
    {
     "data": {
      "text/html": [
       "<div>\n",
       "<style scoped>\n",
       "    .dataframe tbody tr th:only-of-type {\n",
       "        vertical-align: middle;\n",
       "    }\n",
       "\n",
       "    .dataframe tbody tr th {\n",
       "        vertical-align: top;\n",
       "    }\n",
       "\n",
       "    .dataframe thead th {\n",
       "        text-align: right;\n",
       "    }\n",
       "</style>\n",
       "<table border=\"1\" class=\"dataframe\">\n",
       "  <thead>\n",
       "    <tr style=\"text-align: right;\">\n",
       "      <th></th>\n",
       "      <th>diff3</th>\n",
       "      <th>diff5</th>\n",
       "      <th>diff7</th>\n",
       "      <th>diff9</th>\n",
       "      <th>dayofweek_0</th>\n",
       "      <th>hour_7</th>\n",
       "      <th>hour_18</th>\n",
       "      <th>hour_21</th>\n",
       "      <th>hour_22</th>\n",
       "      <th>hour_10</th>\n",
       "      <th>...</th>\n",
       "      <th>diff4</th>\n",
       "      <th>hour_13</th>\n",
       "      <th>hour_9</th>\n",
       "      <th>hour_14</th>\n",
       "      <th>hour_11</th>\n",
       "      <th>hour_23</th>\n",
       "      <th>dayofweek_3</th>\n",
       "      <th>dayofweek_5</th>\n",
       "      <th>hour_15</th>\n",
       "      <th>hour_8</th>\n",
       "    </tr>\n",
       "    <tr>\n",
       "      <th>session_id</th>\n",
       "      <th></th>\n",
       "      <th></th>\n",
       "      <th></th>\n",
       "      <th></th>\n",
       "      <th></th>\n",
       "      <th></th>\n",
       "      <th></th>\n",
       "      <th></th>\n",
       "      <th></th>\n",
       "      <th></th>\n",
       "      <th></th>\n",
       "      <th></th>\n",
       "      <th></th>\n",
       "      <th></th>\n",
       "      <th></th>\n",
       "      <th></th>\n",
       "      <th></th>\n",
       "      <th></th>\n",
       "      <th></th>\n",
       "      <th></th>\n",
       "      <th></th>\n",
       "    </tr>\n",
       "  </thead>\n",
       "  <tbody>\n",
       "    <tr>\n",
       "      <th>21669</th>\n",
       "      <td>-0.186043</td>\n",
       "      <td>-0.193099</td>\n",
       "      <td>-0.191254</td>\n",
       "      <td>-0.190587</td>\n",
       "      <td>0</td>\n",
       "      <td>0</td>\n",
       "      <td>0</td>\n",
       "      <td>0</td>\n",
       "      <td>0</td>\n",
       "      <td>0</td>\n",
       "      <td>...</td>\n",
       "      <td>-0.191959</td>\n",
       "      <td>0</td>\n",
       "      <td>0</td>\n",
       "      <td>0</td>\n",
       "      <td>0</td>\n",
       "      <td>0</td>\n",
       "      <td>0</td>\n",
       "      <td>1</td>\n",
       "      <td>0</td>\n",
       "      <td>1</td>\n",
       "    </tr>\n",
       "    <tr>\n",
       "      <th>54843</th>\n",
       "      <td>-0.164093</td>\n",
       "      <td>-0.193099</td>\n",
       "      <td>-0.191254</td>\n",
       "      <td>-0.190587</td>\n",
       "      <td>0</td>\n",
       "      <td>0</td>\n",
       "      <td>0</td>\n",
       "      <td>0</td>\n",
       "      <td>0</td>\n",
       "      <td>0</td>\n",
       "      <td>...</td>\n",
       "      <td>-0.191959</td>\n",
       "      <td>0</td>\n",
       "      <td>0</td>\n",
       "      <td>0</td>\n",
       "      <td>0</td>\n",
       "      <td>0</td>\n",
       "      <td>0</td>\n",
       "      <td>1</td>\n",
       "      <td>0</td>\n",
       "      <td>1</td>\n",
       "    </tr>\n",
       "    <tr>\n",
       "      <th>77292</th>\n",
       "      <td>-0.186043</td>\n",
       "      <td>-0.193099</td>\n",
       "      <td>-0.191254</td>\n",
       "      <td>-0.190587</td>\n",
       "      <td>0</td>\n",
       "      <td>0</td>\n",
       "      <td>0</td>\n",
       "      <td>0</td>\n",
       "      <td>0</td>\n",
       "      <td>0</td>\n",
       "      <td>...</td>\n",
       "      <td>-0.179286</td>\n",
       "      <td>0</td>\n",
       "      <td>0</td>\n",
       "      <td>0</td>\n",
       "      <td>0</td>\n",
       "      <td>0</td>\n",
       "      <td>0</td>\n",
       "      <td>1</td>\n",
       "      <td>0</td>\n",
       "      <td>1</td>\n",
       "    </tr>\n",
       "    <tr>\n",
       "      <th>114021</th>\n",
       "      <td>-0.186043</td>\n",
       "      <td>-0.193099</td>\n",
       "      <td>-0.191254</td>\n",
       "      <td>-0.175670</td>\n",
       "      <td>0</td>\n",
       "      <td>0</td>\n",
       "      <td>0</td>\n",
       "      <td>0</td>\n",
       "      <td>0</td>\n",
       "      <td>0</td>\n",
       "      <td>...</td>\n",
       "      <td>-0.191959</td>\n",
       "      <td>0</td>\n",
       "      <td>0</td>\n",
       "      <td>0</td>\n",
       "      <td>0</td>\n",
       "      <td>0</td>\n",
       "      <td>0</td>\n",
       "      <td>1</td>\n",
       "      <td>0</td>\n",
       "      <td>1</td>\n",
       "    </tr>\n",
       "    <tr>\n",
       "      <th>146670</th>\n",
       "      <td>-0.175068</td>\n",
       "      <td>-0.193099</td>\n",
       "      <td>-0.176950</td>\n",
       "      <td>-0.190587</td>\n",
       "      <td>0</td>\n",
       "      <td>0</td>\n",
       "      <td>0</td>\n",
       "      <td>0</td>\n",
       "      <td>0</td>\n",
       "      <td>0</td>\n",
       "      <td>...</td>\n",
       "      <td>-0.191959</td>\n",
       "      <td>0</td>\n",
       "      <td>0</td>\n",
       "      <td>0</td>\n",
       "      <td>0</td>\n",
       "      <td>0</td>\n",
       "      <td>0</td>\n",
       "      <td>1</td>\n",
       "      <td>0</td>\n",
       "      <td>1</td>\n",
       "    </tr>\n",
       "    <tr>\n",
       "      <th>...</th>\n",
       "      <td>...</td>\n",
       "      <td>...</td>\n",
       "      <td>...</td>\n",
       "      <td>...</td>\n",
       "      <td>...</td>\n",
       "      <td>...</td>\n",
       "      <td>...</td>\n",
       "      <td>...</td>\n",
       "      <td>...</td>\n",
       "      <td>...</td>\n",
       "      <td>...</td>\n",
       "      <td>...</td>\n",
       "      <td>...</td>\n",
       "      <td>...</td>\n",
       "      <td>...</td>\n",
       "      <td>...</td>\n",
       "      <td>...</td>\n",
       "      <td>...</td>\n",
       "      <td>...</td>\n",
       "      <td>...</td>\n",
       "      <td>...</td>\n",
       "    </tr>\n",
       "    <tr>\n",
       "      <th>82793</th>\n",
       "      <td>-0.186043</td>\n",
       "      <td>-0.193099</td>\n",
       "      <td>-0.191254</td>\n",
       "      <td>-0.190587</td>\n",
       "      <td>0</td>\n",
       "      <td>0</td>\n",
       "      <td>1</td>\n",
       "      <td>0</td>\n",
       "      <td>0</td>\n",
       "      <td>0</td>\n",
       "      <td>...</td>\n",
       "      <td>-0.191959</td>\n",
       "      <td>0</td>\n",
       "      <td>0</td>\n",
       "      <td>0</td>\n",
       "      <td>0</td>\n",
       "      <td>0</td>\n",
       "      <td>1</td>\n",
       "      <td>0</td>\n",
       "      <td>0</td>\n",
       "      <td>0</td>\n",
       "    </tr>\n",
       "    <tr>\n",
       "      <th>82794</th>\n",
       "      <td>-0.186043</td>\n",
       "      <td>-0.193099</td>\n",
       "      <td>-0.191254</td>\n",
       "      <td>-0.190587</td>\n",
       "      <td>1</td>\n",
       "      <td>0</td>\n",
       "      <td>0</td>\n",
       "      <td>0</td>\n",
       "      <td>0</td>\n",
       "      <td>0</td>\n",
       "      <td>...</td>\n",
       "      <td>0.251591</td>\n",
       "      <td>0</td>\n",
       "      <td>0</td>\n",
       "      <td>1</td>\n",
       "      <td>0</td>\n",
       "      <td>0</td>\n",
       "      <td>0</td>\n",
       "      <td>0</td>\n",
       "      <td>0</td>\n",
       "      <td>0</td>\n",
       "    </tr>\n",
       "    <tr>\n",
       "      <th>82795</th>\n",
       "      <td>-0.109217</td>\n",
       "      <td>-0.193099</td>\n",
       "      <td>-0.176950</td>\n",
       "      <td>-0.190587</td>\n",
       "      <td>0</td>\n",
       "      <td>0</td>\n",
       "      <td>0</td>\n",
       "      <td>0</td>\n",
       "      <td>0</td>\n",
       "      <td>0</td>\n",
       "      <td>...</td>\n",
       "      <td>-0.191959</td>\n",
       "      <td>0</td>\n",
       "      <td>0</td>\n",
       "      <td>0</td>\n",
       "      <td>1</td>\n",
       "      <td>0</td>\n",
       "      <td>0</td>\n",
       "      <td>0</td>\n",
       "      <td>0</td>\n",
       "      <td>0</td>\n",
       "    </tr>\n",
       "    <tr>\n",
       "      <th>82796</th>\n",
       "      <td>-0.186043</td>\n",
       "      <td>-0.179768</td>\n",
       "      <td>-0.176950</td>\n",
       "      <td>-0.190587</td>\n",
       "      <td>0</td>\n",
       "      <td>0</td>\n",
       "      <td>0</td>\n",
       "      <td>0</td>\n",
       "      <td>0</td>\n",
       "      <td>1</td>\n",
       "      <td>...</td>\n",
       "      <td>-0.077903</td>\n",
       "      <td>0</td>\n",
       "      <td>0</td>\n",
       "      <td>0</td>\n",
       "      <td>0</td>\n",
       "      <td>0</td>\n",
       "      <td>0</td>\n",
       "      <td>1</td>\n",
       "      <td>0</td>\n",
       "      <td>0</td>\n",
       "    </tr>\n",
       "    <tr>\n",
       "      <th>82797</th>\n",
       "      <td>-0.032390</td>\n",
       "      <td>-0.179768</td>\n",
       "      <td>-0.148342</td>\n",
       "      <td>-0.116001</td>\n",
       "      <td>0</td>\n",
       "      <td>0</td>\n",
       "      <td>0</td>\n",
       "      <td>0</td>\n",
       "      <td>0</td>\n",
       "      <td>1</td>\n",
       "      <td>...</td>\n",
       "      <td>-0.179286</td>\n",
       "      <td>0</td>\n",
       "      <td>0</td>\n",
       "      <td>0</td>\n",
       "      <td>0</td>\n",
       "      <td>0</td>\n",
       "      <td>0</td>\n",
       "      <td>0</td>\n",
       "      <td>0</td>\n",
       "      <td>0</td>\n",
       "    </tr>\n",
       "  </tbody>\n",
       "</table>\n",
       "<p>336358 rows × 35 columns</p>\n",
       "</div>"
      ],
      "text/plain": [
       "               diff3     diff5     diff7     diff9  dayofweek_0  hour_7  \\\n",
       "session_id                                                                \n",
       "21669      -0.186043 -0.193099 -0.191254 -0.190587            0       0   \n",
       "54843      -0.164093 -0.193099 -0.191254 -0.190587            0       0   \n",
       "77292      -0.186043 -0.193099 -0.191254 -0.190587            0       0   \n",
       "114021     -0.186043 -0.193099 -0.191254 -0.175670            0       0   \n",
       "146670     -0.175068 -0.193099 -0.176950 -0.190587            0       0   \n",
       "...              ...       ...       ...       ...          ...     ...   \n",
       "82793      -0.186043 -0.193099 -0.191254 -0.190587            0       0   \n",
       "82794      -0.186043 -0.193099 -0.191254 -0.190587            1       0   \n",
       "82795      -0.109217 -0.193099 -0.176950 -0.190587            0       0   \n",
       "82796      -0.186043 -0.179768 -0.176950 -0.190587            0       0   \n",
       "82797      -0.032390 -0.179768 -0.148342 -0.116001            0       0   \n",
       "\n",
       "            hour_18  hour_21  hour_22  hour_10  ...     diff4  hour_13  \\\n",
       "session_id                                      ...                      \n",
       "21669             0        0        0        0  ... -0.191959        0   \n",
       "54843             0        0        0        0  ... -0.191959        0   \n",
       "77292             0        0        0        0  ... -0.179286        0   \n",
       "114021            0        0        0        0  ... -0.191959        0   \n",
       "146670            0        0        0        0  ... -0.191959        0   \n",
       "...             ...      ...      ...      ...  ...       ...      ...   \n",
       "82793             1        0        0        0  ... -0.191959        0   \n",
       "82794             0        0        0        0  ...  0.251591        0   \n",
       "82795             0        0        0        0  ... -0.191959        0   \n",
       "82796             0        0        0        1  ... -0.077903        0   \n",
       "82797             0        0        0        1  ... -0.179286        0   \n",
       "\n",
       "            hour_9  hour_14  hour_11  hour_23  dayofweek_3  dayofweek_5  \\\n",
       "session_id                                                                \n",
       "21669            0        0        0        0            0            1   \n",
       "54843            0        0        0        0            0            1   \n",
       "77292            0        0        0        0            0            1   \n",
       "114021           0        0        0        0            0            1   \n",
       "146670           0        0        0        0            0            1   \n",
       "...            ...      ...      ...      ...          ...          ...   \n",
       "82793            0        0        0        0            1            0   \n",
       "82794            0        1        0        0            0            0   \n",
       "82795            0        0        1        0            0            0   \n",
       "82796            0        0        0        0            0            1   \n",
       "82797            0        0        0        0            0            0   \n",
       "\n",
       "            hour_15  hour_8  \n",
       "session_id                   \n",
       "21669             0       1  \n",
       "54843             0       1  \n",
       "77292             0       1  \n",
       "114021            0       1  \n",
       "146670            0       1  \n",
       "...             ...     ...  \n",
       "82793             0       0  \n",
       "82794             0       0  \n",
       "82795             0       0  \n",
       "82796             0       0  \n",
       "82797             0       0  \n",
       "\n",
       "[336358 rows x 35 columns]"
      ]
     },
     "execution_count": 90,
     "metadata": {},
     "output_type": "execute_result"
    }
   ],
   "source": [
    "train_test[generated_features]"
   ]
  },
  {
   "cell_type": "code",
   "execution_count": 128,
   "metadata": {},
   "outputs": [
    {
     "data": {
      "text/plain": [
       "<336358x35 sparse matrix of type '<class 'numpy.float64'>'\n",
       "\twith 4372654 stored elements in Compressed Sparse Row format>"
      ]
     },
     "execution_count": 128,
     "metadata": {},
     "output_type": "execute_result"
    }
   ],
   "source": [
    "a = csr_matrix(train_test[generated_features].values)\n",
    "a"
   ]
  },
  {
   "cell_type": "code",
   "execution_count": 129,
   "metadata": {},
   "outputs": [
    {
     "data": {
      "text/plain": [
       "<336358x2444485 sparse matrix of type '<class 'numpy.int64'>'\n",
       "\twith 8482135 stored elements in Compressed Sparse Row format>"
      ]
     },
     "execution_count": 129,
     "metadata": {},
     "output_type": "execute_result"
    }
   ],
   "source": [
    "b = train_test_sparse\n",
    "b"
   ]
  },
  {
   "cell_type": "code",
   "execution_count": 133,
   "metadata": {},
   "outputs": [
    {
     "data": {
      "text/plain": [
       "<336358x2444520 sparse matrix of type '<class 'numpy.float64'>'\n",
       "\twith 12854789 stored elements in Compressed Sparse Row format>"
      ]
     },
     "execution_count": 133,
     "metadata": {},
     "output_type": "execute_result"
    }
   ],
   "source": [
    "import scipy\n",
    "g =csr_matrix(scipy.sparse.hstack([a,b]))\n",
    "g"
   ]
  },
  {
   "cell_type": "code",
   "execution_count": 134,
   "metadata": {
    "scrolled": true
   },
   "outputs": [
    {
     "name": "stdout",
     "output_type": "stream",
     "text": [
      "Number of features : 2444520\n",
      "AUC score on valid part: 0.9560\n",
      "AUC score on cross-val: 0.9153 0.0901\n",
      "\n",
      "Selection :\n",
      "Number of features : 40000\n",
      "AUC score on valid part: 0.9563\n",
      "AUC score on cross-val: 0.9150 0.0950\n",
      "\n"
     ]
    }
   ],
   "source": [
    "model_assessment(sgd_logit, g, y)"
   ]
  },
  {
   "cell_type": "code",
   "execution_count": 135,
   "metadata": {},
   "outputs": [],
   "source": [
    "def write_to_submission_file(predicted_labels, out_file,\n",
    "                             target='target', index_label=\"session_id\"):\n",
    "    # turn predictions into data frame and save as csv file\n",
    "    predicted_df = pd.DataFrame(predicted_labels,\n",
    "                                index=np.arange(\n",
    "                                    1, predicted_labels.shape[0] + 1),\n",
    "                                columns=[target])\n",
    "    predicted_df.to_csv(out_file, index_label=index_label)"
   ]
  },
  {
   "cell_type": "code",
   "execution_count": 136,
   "metadata": {},
   "outputs": [],
   "source": [
    "model = sgd_logit\n",
    "X = g\n",
    "Y =y\n",
    "\n",
    "train, test,  train_part, y_part, valid, y_valid = \\\n",
    "    get_train_test_trainpart_valid(X, Y)\n",
    "\n",
    "model.fit(train, Y)\n",
    "proba = model.predict_proba(test)\n",
    "\n",
    "write_to_submission_file(proba[:, 1], \"outsgd.csv\")"
   ]
  },
  {
   "cell_type": "markdown",
   "metadata": {},
   "source": [
    "### PLB Дает 0.93895"
   ]
  },
  {
   "cell_type": "markdown",
   "metadata": {},
   "source": [
    "### **GridSearchCV sgd_logit**"
   ]
  },
  {
   "cell_type": "code",
   "execution_count": 141,
   "metadata": {
    "scrolled": true
   },
   "outputs": [
    {
     "data": {
      "text/plain": [
       "array([1.00e-06, 1.50e-06, 2.00e-06, 2.50e-06, 3.00e-06, 3.50e-06,\n",
       "       4.00e-06, 4.50e-06, 5.00e-06, 5.50e-06, 6.00e-06, 6.50e-06,\n",
       "       7.00e-06, 7.50e-06, 8.00e-06, 8.50e-06, 9.00e-06, 9.50e-06,\n",
       "       1.00e-05, 1.05e-05, 1.10e-05, 1.15e-05, 1.20e-05, 1.25e-05,\n",
       "       1.30e-05, 1.35e-05, 1.40e-05, 1.45e-05, 1.50e-05, 1.55e-05,\n",
       "       1.60e-05, 1.65e-05, 1.70e-05, 1.75e-05, 1.80e-05, 1.85e-05,\n",
       "       1.90e-05, 1.95e-05, 2.00e-05, 2.05e-05])"
      ]
     },
     "execution_count": 141,
     "metadata": {},
     "output_type": "execute_result"
    }
   ],
   "source": [
    "start = 10**(-6)\n",
    "np.arange(start, start*21, start/2)"
   ]
  },
  {
   "cell_type": "code",
   "execution_count": 143,
   "metadata": {},
   "outputs": [
    {
     "name": "stdout",
     "output_type": "stream",
     "text": [
      "Fitting 10 folds for each of 40 candidates, totalling 400 fits\n"
     ]
    },
    {
     "name": "stderr",
     "output_type": "stream",
     "text": [
      "[Parallel(n_jobs=-1)]: Using backend LokyBackend with 8 concurrent workers.\n",
      "[Parallel(n_jobs=-1)]: Done  34 tasks      | elapsed:   30.4s\n",
      "[Parallel(n_jobs=-1)]: Done 184 tasks      | elapsed:  1.5min\n",
      "[Parallel(n_jobs=-1)]: Done 400 out of 400 | elapsed:  2.6min finished\n"
     ]
    },
    {
     "name": "stdout",
     "output_type": "stream",
     "text": [
      "CPU times: user 4.84 s, sys: 1.22 s, total: 6.06 s\n",
      "Wall time: 2min 37s\n"
     ]
    },
    {
     "data": {
      "text/plain": [
       "GridSearchCV(cv=TimeSeriesSplit(max_train_size=None, n_splits=10),\n",
       "             error_score=nan,\n",
       "             estimator=SGDClassifier(alpha=0.0001, average=False,\n",
       "                                     class_weight=None, early_stopping=False,\n",
       "                                     epsilon=0.1, eta0=0.0, fit_intercept=True,\n",
       "                                     l1_ratio=0.15, learning_rate='optimal',\n",
       "                                     loss='log', max_iter=1000,\n",
       "                                     n_iter_no_change=5, n_jobs=-1,\n",
       "                                     penalty='l2', power_t=0.5, random_state=17,\n",
       "                                     shuffl...\n",
       "       4.00e-06, 4.50e-06, 5.00e-06, 5.50e-06, 6.00e-06, 6.50e-06,\n",
       "       7.00e-06, 7.50e-06, 8.00e-06, 8.50e-06, 9.00e-06, 9.50e-06,\n",
       "       1.00e-05, 1.05e-05, 1.10e-05, 1.15e-05, 1.20e-05, 1.25e-05,\n",
       "       1.30e-05, 1.35e-05, 1.40e-05, 1.45e-05, 1.50e-05, 1.55e-05,\n",
       "       1.60e-05, 1.65e-05, 1.70e-05, 1.75e-05, 1.80e-05, 1.85e-05,\n",
       "       1.90e-05, 1.95e-05, 2.00e-05, 2.05e-05])},\n",
       "             pre_dispatch='2*n_jobs', refit=True, return_train_score=True,\n",
       "             scoring='roc_auc', verbose=1)"
      ]
     },
     "execution_count": 143,
     "metadata": {},
     "output_type": "execute_result"
    }
   ],
   "source": [
    "%%time\n",
    "param_grid = {'alpha' : np.arange(start, start*21, start/2)}\n",
    "time_split = TimeSeriesSplit(n_splits=10)\n",
    "sgd_grid = GridSearchCV(sgd_logit, param_grid, scoring='roc_auc', cv=time_split, n_jobs=-1,\\\n",
    "                        return_train_score=True, verbose=1)\n",
    "sgd_grid.fit(g[:n], y)"
   ]
  },
  {
   "cell_type": "code",
   "execution_count": 144,
   "metadata": {},
   "outputs": [
    {
     "data": {
      "text/plain": [
       "({'alpha': 1.8000000000000004e-05},\n",
       " SGDClassifier(alpha=1.8000000000000004e-05, average=False, class_weight=None,\n",
       "               early_stopping=False, epsilon=0.1, eta0=0.0, fit_intercept=True,\n",
       "               l1_ratio=0.15, learning_rate='optimal', loss='log', max_iter=1000,\n",
       "               n_iter_no_change=5, n_jobs=-1, penalty='l2', power_t=0.5,\n",
       "               random_state=17, shuffle=True, tol=0.001, validation_fraction=0.1,\n",
       "               verbose=0, warm_start=False))"
      ]
     },
     "execution_count": 144,
     "metadata": {},
     "output_type": "execute_result"
    }
   ],
   "source": [
    "sgd_grid.best_params_, sgd_grid.best_estimator_"
   ]
  },
  {
   "cell_type": "code",
   "execution_count": 145,
   "metadata": {},
   "outputs": [
    {
     "name": "stdout",
     "output_type": "stream",
     "text": [
      "Number of features : 2444520\n",
      "AUC score on valid part: 0.9564\n",
      "AUC score on cross-val: 0.9235 0.0639\n",
      "\n",
      "Selection :\n",
      "Number of features : 40000\n",
      "AUC score on valid part: 0.9597\n",
      "AUC score on cross-val: 0.9250 0.0701\n",
      "\n"
     ]
    }
   ],
   "source": [
    "model_assessment(sgd_grid.best_estimator_, g, y)"
   ]
  },
  {
   "cell_type": "code",
   "execution_count": 146,
   "metadata": {},
   "outputs": [],
   "source": [
    "model = sgd_grid.best_estimator_\n",
    "X = g\n",
    "Y = y\n",
    "\n",
    "train, test,  train_part, y_part, valid, y_valid = \\\n",
    "    get_train_test_trainpart_valid(X, Y)\n",
    "\n",
    "model.fit(train, Y)\n",
    "proba = model.predict_proba(test)\n",
    "\n",
    "write_to_submission_file(proba[:, 1], \"outsgd_optimized.csv\")"
   ]
  },
  {
   "cell_type": "markdown",
   "metadata": {},
   "source": [
    "### PLB дает 0.94479"
   ]
  },
  {
   "cell_type": "markdown",
   "metadata": {},
   "source": [
    "# Выводы: как построенная модель может применяться на практике, какие бизнес-задачи решать. Подведите итог, опишите, что еще можно сделать, а что сделать не удалось."
   ]
  },
  {
   "cell_type": "markdown",
   "metadata": {},
   "source": [
    "Применимость выходит из выбранной метрики. AUC ROC позволяет оценивать качество признаков, на которых строится модель. То есть данная модель может служить промежуточным звеном для построения признаков другой модели. Которая, к примеру, занимается действительной идентификацией."
   ]
  },
  {
   "cell_type": "markdown",
   "metadata": {},
   "source": [
    "Можно найти новые признаки. Снизить количество признаков, например, методом главных компонент. Потренироваться в построении ансамбля моделей."
   ]
  },
  {
   "cell_type": "code",
   "execution_count": null,
   "metadata": {},
   "outputs": [],
   "source": []
  }
 ],
 "metadata": {
  "kernelspec": {
   "display_name": "Python 3",
   "language": "python",
   "name": "python3"
  },
  "language_info": {
   "codemirror_mode": {
    "name": "ipython",
    "version": 3
   },
   "file_extension": ".py",
   "mimetype": "text/x-python",
   "name": "python",
   "nbconvert_exporter": "python",
   "pygments_lexer": "ipython3",
   "version": "3.7.6"
  },
  "toc": {
   "base_numbering": 1,
   "nav_menu": {},
   "number_sections": true,
   "sideBar": true,
   "skip_h1_title": false,
   "title_cell": "Table of Contents",
   "title_sidebar": "Contents",
   "toc_cell": false,
   "toc_position": {
    "height": "calc(100% - 180px)",
    "left": "10px",
    "top": "150px",
    "width": "417.129px"
   },
   "toc_section_display": true,
   "toc_window_display": true
  }
 },
 "nbformat": 4,
 "nbformat_minor": 1
}
