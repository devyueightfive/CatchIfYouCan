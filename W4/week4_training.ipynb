{
 "cells": [
  {
   "cell_type": "markdown",
   "metadata": {},
   "source": [
    "<center>\n",
    "<img src=\"https://habrastorage.org/web/677/8e1/337/6778e1337c3d4b159d7e99df94227cb2.jpg\"/>\n",
    "## Специализация \"Машинное обучение и анализ данных\"\n",
    "<center>Автор материала: программист-исследователь Mail.Ru Group, старший преподаватель Факультета Компьютерных Наук ВШЭ [Юрий Кашницкий](https://yorko.github.io/)"
   ]
  },
  {
   "cell_type": "markdown",
   "metadata": {},
   "source": [
    "# <center> Capstone проект №1 <br> Идентификация пользователей по посещенным веб-страницам\n",
    "<img src='http://i.istockimg.com/file_thumbview_approve/21546327/5/stock-illustration-21546327-identification-de-l-utilisateur.jpg'>\n",
    "\n",
    "# <center>Неделя 4.  Сравнение алгоритмов классификации\n",
    "\n",
    "Теперь мы наконец подойдем к обучению моделей классификации, сравним на кросс-валидации несколько алгоритмов, разберемся, какие параметры длины сессии (*session_length* и *window_size*) лучше использовать. Также для выбранного алгоритма построим кривые валидации (как качество классификации зависит от одного из гиперпараметров алгоритма) и кривые обучения (как качество классификации зависит от объема выборки).\n",
    "\n",
    "**План 4 недели:**\n",
    "- Часть 1. Сравнение нескольких алгоритмов на сессиях из 10 сайтов\n",
    "- Часть 2. Выбор параметров – длины сессии и ширины окна\n",
    "- Часть 3. Идентификация  конкретного пользователя и кривые обучения\n",
    " \n",
    "\n",
    "\n",
    "**В этой части проекта Вам могут быть полезны видеозаписи следующих лекций курса \"Обучение на размеченных данных\":**\n",
    "   - [Линейная классификация](https://www.coursera.org/learn/supervised-learning/lecture/jqLcO/linieinaia-klassifikatsiia)\n",
    "   - [Сравнение алгоритмов и выбор гиперпараметров](https://www.coursera.org/learn/supervised-learning/lecture/aF79U/sravnieniie-alghoritmov-i-vybor-ghipierparamietrov)\n",
    "   - [Кросс-валидация. Sklearn.cross_validation](https://www.coursera.org/learn/supervised-learning/lecture/XbHEk/kross-validatsiia-sklearn-cross-validation)\n",
    "   - [Линейные модели. Sklearn.linear_model. Классификация](https://www.coursera.org/learn/supervised-learning/lecture/EBg9t/linieinyie-modieli-sklearn-linear-model-klassifikatsiia)\n",
    "   - и многие другие\n"
   ]
  },
  {
   "cell_type": "markdown",
   "metadata": {},
   "source": [
    "### Задание\n",
    "1. Заполните код в этой тетрадке \n",
    "2. Если вы проходите специализацию Яндеса и МФТИ, пошлите файл с ответами в соответствующем Programming Assignment. <br> Если вы проходите курс ODS, выберите ответы в [веб-форме](https://docs.google.com/forms/d/12VB7kmzDoSVzSpQNaJp0tR-2t8K8PynQopP3dypf7i4).  "
   ]
  },
  {
   "cell_type": "code",
   "execution_count": 1,
   "metadata": {},
   "outputs": [],
   "source": [
    "# pip install watermark\n",
    "%load_ext watermark"
   ]
  },
  {
   "cell_type": "code",
   "execution_count": 2,
   "metadata": {},
   "outputs": [
    {
     "name": "stdout",
     "output_type": "stream",
     "text": [
      "CPython 3.7.6\n",
      "IPython 7.11.1\n",
      "\n",
      "numpy 1.18.1\n",
      "scipy 1.3.2\n",
      "pandas 0.25.3\n",
      "matplotlib 3.1.1\n",
      "statsmodels 0.10.1\n",
      "sklearn 0.22.1\n",
      "\n",
      "compiler   : GCC 7.3.0\n",
      "system     : Linux\n",
      "release    : 5.3.0-28-generic\n",
      "machine    : x86_64\n",
      "processor  : x86_64\n",
      "CPU cores  : 8\n",
      "interpreter: 64bit\n",
      "Git hash   :\n"
     ]
    }
   ],
   "source": [
    "%watermark -v -m -p numpy,scipy,pandas,matplotlib,statsmodels,sklearn -g"
   ]
  },
  {
   "cell_type": "code",
   "execution_count": 3,
   "metadata": {},
   "outputs": [],
   "source": [
    "from __future__ import division, print_function\n",
    "# отключим всякие предупреждения Anaconda\n",
    "import warnings\n",
    "warnings.filterwarnings('ignore')\n",
    "from time import time\n",
    "import itertools\n",
    "import os\n",
    "import numpy as np\n",
    "import pandas as pd\n",
    "import seaborn as sns\n",
    "%matplotlib inline\n",
    "from matplotlib import pyplot as plt\n",
    "import pickle\n",
    "from scipy.sparse import csr_matrix\n",
    "from sklearn.model_selection import train_test_split, cross_val_score, StratifiedKFold, GridSearchCV\n",
    "from sklearn.metrics import accuracy_score, f1_score, make_scorer\n"
   ]
  },
  {
   "cell_type": "code",
   "execution_count": 4,
   "metadata": {},
   "outputs": [],
   "source": [
    "# Поменяйте на свой путь к данным\n",
    "PATH_TO_DATA = 'capstone_user_identification'"
   ]
  },
  {
   "cell_type": "markdown",
   "metadata": {},
   "source": [
    "## Часть 1. Сравнение нескольких алгоритмов на сессиях из 10 сайтов"
   ]
  },
  {
   "cell_type": "markdown",
   "metadata": {},
   "source": [
    "**Загрузим сериализованные ранее объекты *X_sparse_10users* и *y_10users*, соответствующие обучающей выборке для 10 пользователей.**"
   ]
  },
  {
   "cell_type": "code",
   "execution_count": 5,
   "metadata": {},
   "outputs": [],
   "source": [
    "with open(os.path.join(PATH_TO_DATA, \n",
    "         'X_sparse_10users.pkl'), 'rb') as X_sparse_10users_pkl:\n",
    "    X_sparse_10users = pickle.load(X_sparse_10users_pkl)\n",
    "with open(os.path.join(PATH_TO_DATA, \n",
    "                       'y_10users.pkl'), 'rb') as y_10users_pkl:\n",
    "    y_10users = pickle.load(y_10users_pkl)"
   ]
  },
  {
   "cell_type": "markdown",
   "metadata": {},
   "source": [
    "**Здесь более 14 тысяч сессий и почти 5 тысяч уникальных посещенных сайтов.**"
   ]
  },
  {
   "cell_type": "code",
   "execution_count": 6,
   "metadata": {},
   "outputs": [
    {
     "data": {
      "text/plain": [
       "(14061, 4913)"
      ]
     },
     "execution_count": 6,
     "metadata": {},
     "output_type": "execute_result"
    }
   ],
   "source": [
    "X_sparse_10users.shape"
   ]
  },
  {
   "cell_type": "markdown",
   "metadata": {},
   "source": [
    "**Разобьем выборку на 2 части. На одной будем проводить кросс-валидацию, на второй – оценивать модель, обученную после кросс-валидации.**"
   ]
  },
  {
   "cell_type": "code",
   "execution_count": 7,
   "metadata": {},
   "outputs": [],
   "source": [
    "X_train, X_valid, y_train, y_valid = train_test_split(X_sparse_10users, y_10users, \n",
    "                                                      test_size=0.3, \n",
    "                                                     random_state=17, stratify=y_10users)"
   ]
  },
  {
   "cell_type": "markdown",
   "metadata": {},
   "source": [
    "**Зададим заранее тип кросс-валидации: 3-кратная, с перемешиванием, параметр random_state=17 – для воспроизводимости.**"
   ]
  },
  {
   "cell_type": "code",
   "execution_count": 8,
   "metadata": {},
   "outputs": [],
   "source": [
    "skf = StratifiedKFold(n_splits=3, shuffle=True, random_state=17)"
   ]
  },
  {
   "cell_type": "markdown",
   "metadata": {},
   "source": [
    "**Вспомогательная функция для отрисовки кривых валидации после запуска GridSearchCV (или RandomizedCV).**"
   ]
  },
  {
   "cell_type": "code",
   "execution_count": 9,
   "metadata": {},
   "outputs": [],
   "source": [
    "def plot_validation_curves(param_values, grid_cv_results_):\n",
    "    train_mu, train_std = grid_cv_results_['mean_train_score'], grid_cv_results_['std_train_score']\n",
    "    valid_mu, valid_std = grid_cv_results_['mean_test_score'], grid_cv_results_['std_test_score']\n",
    "    train_line = plt.plot(param_values, train_mu, '-', label='train', color='green')\n",
    "    valid_line = plt.plot(param_values, valid_mu, '-', label='test', color='red')\n",
    "    plt.fill_between(param_values, train_mu - train_std, train_mu + train_std, edgecolor='none',\n",
    "                     facecolor=train_line[0].get_color(), alpha=0.2)\n",
    "    plt.fill_between(param_values, valid_mu - valid_std, valid_mu + valid_std, edgecolor='none',\n",
    "                     facecolor=valid_line[0].get_color(), alpha=0.2)\n",
    "    plt.legend()"
   ]
  },
  {
   "cell_type": "markdown",
   "metadata": {},
   "source": [
    "**1. Обучите `KNeighborsClassifier` со 100 ближайшими соседями (остальные параметры оставьте по умолчанию, только `n_jobs`=-1 для распараллеливания) и посмотрите на долю правильных ответов на 3-кратной кросс-валидации (ради воспроизводимости используйте для этого объект `StratifiedKFold` `skf`) по выборке `(X_train, y_train)` и отдельно на выборке `(X_valid, y_valid)`.**"
   ]
  },
  {
   "cell_type": "code",
   "execution_count": 10,
   "metadata": {},
   "outputs": [],
   "source": [
    "from sklearn.neighbors import KNeighborsClassifier"
   ]
  },
  {
   "cell_type": "code",
   "execution_count": 11,
   "metadata": {},
   "outputs": [],
   "source": [
    "knn = KNeighborsClassifier(n_neighbors=100)"
   ]
  },
  {
   "cell_type": "markdown",
   "metadata": {},
   "source": [
    "**<font color='red'>Вопрос 1. </font> Посчитайте доли правильных ответов для KNeighborsClassifier на кросс-валидации и отложенной выборке. Округлите каждое до 3 знаков после запятой и введите через пробел.**"
   ]
  },
  {
   "cell_type": "markdown",
   "metadata": {},
   "source": [
    "Кроссвалидация"
   ]
  },
  {
   "cell_type": "code",
   "execution_count": 12,
   "metadata": {},
   "outputs": [
    {
     "data": {
      "text/plain": [
       "KNeighborsClassifier(algorithm='auto', leaf_size=30, metric='minkowski',\n",
       "                     metric_params=None, n_jobs=None, n_neighbors=100, p=2,\n",
       "                     weights='uniform')"
      ]
     },
     "execution_count": 12,
     "metadata": {},
     "output_type": "execute_result"
    }
   ],
   "source": [
    "knn.fit(X_train,y_train)"
   ]
  },
  {
   "cell_type": "code",
   "execution_count": 13,
   "metadata": {},
   "outputs": [
    {
     "name": "stdout",
     "output_type": "stream",
     "text": [
      "Knn mean:0.5593373897012363, max:0.5659859798841816, min:0.5540993599512344, std:0.004954135909104914\n"
     ]
    }
   ],
   "source": [
    "cv_scoring = cross_val_score(knn, X_train, y_train, scoring = 'accuracy', cv = skf)\n",
    "\n",
    "print('Knn mean:{}, max:{}, min:{}, std:{}'.format(cv_scoring.mean(), cv_scoring.max(), \n",
    "                                                     cv_scoring.min(), cv_scoring.std()))"
   ]
  },
  {
   "cell_type": "code",
   "execution_count": 14,
   "metadata": {},
   "outputs": [
    {
     "data": {
      "text/plain": [
       "0.559"
      ]
     },
     "execution_count": 14,
     "metadata": {},
     "output_type": "execute_result"
    }
   ],
   "source": [
    "a_11 = round(cv_scoring.mean(),3)\n",
    "a_11"
   ]
  },
  {
   "cell_type": "markdown",
   "metadata": {},
   "source": [
    "*Проверка точности на валидации*"
   ]
  },
  {
   "cell_type": "code",
   "execution_count": 15,
   "metadata": {},
   "outputs": [
    {
     "data": {
      "text/plain": [
       "((9842, 4913), (4219, 4913))"
      ]
     },
     "execution_count": 15,
     "metadata": {},
     "output_type": "execute_result"
    }
   ],
   "source": [
    "X_train.shape, X_valid.shape"
   ]
  },
  {
   "cell_type": "code",
   "execution_count": 16,
   "metadata": {},
   "outputs": [],
   "source": [
    "y_predicted = knn.predict(X_valid)"
   ]
  },
  {
   "cell_type": "code",
   "execution_count": 17,
   "metadata": {},
   "outputs": [
    {
     "data": {
      "text/plain": [
       "0.584"
      ]
     },
     "execution_count": 17,
     "metadata": {},
     "output_type": "execute_result"
    }
   ],
   "source": [
    "a_12 = round(accuracy_score(y_valid, y_predicted),3)\n",
    "a_12"
   ]
  },
  {
   "cell_type": "code",
   "execution_count": 18,
   "metadata": {},
   "outputs": [],
   "source": [
    "def write_answer(i, answer):\n",
    "    with open(f\"task4_{i}_answer\", mode = \"w\") as file:\n",
    "        file.write(str(answer))"
   ]
  },
  {
   "cell_type": "code",
   "execution_count": 19,
   "metadata": {},
   "outputs": [
    {
     "data": {
      "text/plain": [
       "'0.559 0.584'"
      ]
     },
     "execution_count": 19,
     "metadata": {},
     "output_type": "execute_result"
    }
   ],
   "source": [
    "a1 = \" \".join(map(str,[a_11,a_12]))\n",
    "a1"
   ]
  },
  {
   "cell_type": "code",
   "execution_count": 20,
   "metadata": {},
   "outputs": [
    {
     "name": "stdout",
     "output_type": "stream",
     "text": [
      "0.559 0.584"
     ]
    }
   ],
   "source": [
    "write_answer(1,a1)\n",
    "\n",
    "!cat task4_1_answer"
   ]
  },
  {
   "cell_type": "markdown",
   "metadata": {},
   "source": [
    "**2. Обучите случайный лес (`RandomForestClassifier`) из 100 деревьев (для воспроизводимости `random_state`=17). Посмотрите на OOB-оценку (для этого надо сразу установить `oob_score`=True) и на долю правильных ответов на выборке `(X_valid, y_valid)`. Для распараллеливания задайте `n_jobs`=-1.**"
   ]
  },
  {
   "cell_type": "code",
   "execution_count": 21,
   "metadata": {},
   "outputs": [],
   "source": [
    "from sklearn.ensemble import RandomForestClassifier"
   ]
  },
  {
   "cell_type": "code",
   "execution_count": 22,
   "metadata": {},
   "outputs": [],
   "source": [
    "forest = RandomForestClassifier(n_estimators=100, random_state=17, oob_score=True)"
   ]
  },
  {
   "cell_type": "code",
   "execution_count": 23,
   "metadata": {},
   "outputs": [
    {
     "data": {
      "text/plain": [
       "RandomForestClassifier(bootstrap=True, ccp_alpha=0.0, class_weight=None,\n",
       "                       criterion='gini', max_depth=None, max_features='auto',\n",
       "                       max_leaf_nodes=None, max_samples=None,\n",
       "                       min_impurity_decrease=0.0, min_impurity_split=None,\n",
       "                       min_samples_leaf=1, min_samples_split=2,\n",
       "                       min_weight_fraction_leaf=0.0, n_estimators=100,\n",
       "                       n_jobs=None, oob_score=True, random_state=17, verbose=0,\n",
       "                       warm_start=False)"
      ]
     },
     "execution_count": 23,
     "metadata": {},
     "output_type": "execute_result"
    }
   ],
   "source": [
    "forest.fit(X_train,y_train)"
   ]
  },
  {
   "cell_type": "code",
   "execution_count": 24,
   "metadata": {},
   "outputs": [],
   "source": [
    "a2_1 = round(forest.oob_score_,3)\n",
    "\n",
    "a2_2 = round(accuracy_score(y_valid, forest.predict(X_valid)),3)"
   ]
  },
  {
   "cell_type": "markdown",
   "metadata": {},
   "source": [
    "**<font color='red'>Вопрос 2. </font> Посчитайте доли правильных ответов для `RandomForestClassifier` при Out-of-Bag оценке и на отложенной выборке. Округлите каждое до 3 знаков после запятой и введите через пробел.**"
   ]
  },
  {
   "cell_type": "code",
   "execution_count": 25,
   "metadata": {},
   "outputs": [],
   "source": [
    "a2 = \" \".join(map(str,[a2_1,a2_2]))\n",
    "\n",
    "write_answer(2,a2)"
   ]
  },
  {
   "cell_type": "code",
   "execution_count": 26,
   "metadata": {},
   "outputs": [
    {
     "name": "stdout",
     "output_type": "stream",
     "text": [
      "0.718 0.733"
     ]
    }
   ],
   "source": [
    "!cat task4_2_answer"
   ]
  },
  {
   "cell_type": "raw",
   "metadata": {},
   "source": [
    "write_answer_to_file(''' ВАШ КОД ЗДЕСЬ ''',\n",
    "                     'answer4_2.txt')"
   ]
  },
  {
   "cell_type": "raw",
   "metadata": {},
   "source": [
    "!cat answer4_2.txt"
   ]
  },
  {
   "cell_type": "markdown",
   "metadata": {},
   "source": [
    "**3. Обучите логистическую регрессию (`LogisticRegression`) с параметром `C` по умолчанию и `random_state`=17 (для воспроизводимости). Посмотрите на долю правильных ответов на кросс-валидации (используйте объект `skf`, созданный ранее) и на выборке `(X_valid, y_valid)`. Для распараллеливания задайте `n_jobs=-1`.**"
   ]
  },
  {
   "cell_type": "code",
   "execution_count": 27,
   "metadata": {},
   "outputs": [],
   "source": [
    "from sklearn.linear_model import LogisticRegression, LogisticRegressionCV"
   ]
  },
  {
   "cell_type": "code",
   "execution_count": 28,
   "metadata": {},
   "outputs": [],
   "source": [
    "logit = LogisticRegression(random_state=17, n_jobs=-1)"
   ]
  },
  {
   "cell_type": "code",
   "execution_count": 29,
   "metadata": {},
   "outputs": [
    {
     "name": "stdout",
     "output_type": "stream",
     "text": [
      "logit mean:0.7606189739891912, max:0.7725609756097561, min:0.7482474855227065, std:0.009930585557303221\n"
     ]
    }
   ],
   "source": [
    "cv_scoring = cross_val_score(logit, X_train, y_train, scoring = 'accuracy', cv = skf)\n",
    "\n",
    "print('logit mean:{}, max:{}, min:{}, std:{}'.format(cv_scoring.mean(), cv_scoring.max(), \n",
    "                                                     cv_scoring.min(), cv_scoring.std()))"
   ]
  },
  {
   "cell_type": "code",
   "execution_count": 30,
   "metadata": {},
   "outputs": [
    {
     "data": {
      "text/plain": [
       "LogisticRegression(C=1.0, class_weight=None, dual=False, fit_intercept=True,\n",
       "                   intercept_scaling=1, l1_ratio=None, max_iter=100,\n",
       "                   multi_class='auto', n_jobs=-1, penalty='l2', random_state=17,\n",
       "                   solver='lbfgs', tol=0.0001, verbose=0, warm_start=False)"
      ]
     },
     "execution_count": 30,
     "metadata": {},
     "output_type": "execute_result"
    }
   ],
   "source": [
    "logit.fit(X_train,y_train)"
   ]
  },
  {
   "cell_type": "code",
   "execution_count": 31,
   "metadata": {},
   "outputs": [
    {
     "data": {
      "text/plain": [
       "0.777"
      ]
     },
     "execution_count": 31,
     "metadata": {},
     "output_type": "execute_result"
    }
   ],
   "source": [
    "round(accuracy_score(y_valid, logit.predict(X_valid)),3)"
   ]
  },
  {
   "cell_type": "markdown",
   "metadata": {},
   "source": [
    "**Почитайте документацию к [LogisticRegressionCV](http://scikit-learn.org/stable/modules/generated/sklearn.linear_model.LogisticRegressionCV.html). Логистическая регрессия хорошо изучена, и для нее существуют алгоритмы быстрого подбора параметра регуляризации `C` (быстрее, чем с `GridSearchCV`).**\n",
    "\n",
    "**С помощью `LogisticRegressionCV` подберите параметр `C` для `LogisticRegression` сначала в широком диапазоне: 10 значений от 1e-4 до 1e2, используйте `logspace` из `NumPy`. Укажите у `LogisticRegressionCV` параметры `multi_class`='multinomial' и `random_state`=17. Для кросс-валидации используйте объект `skf`, созданный ранее. Для распараллеливания задайте `n_jobs=-1`.**\n",
    "\n",
    "**Нарисуйте кривые валидации по параметру `C`.**"
   ]
  },
  {
   "cell_type": "code",
   "execution_count": 2,
   "metadata": {
    "scrolled": true
   },
   "outputs": [
    {
     "ename": "NameError",
     "evalue": "name 'np' is not defined",
     "output_type": "error",
     "traceback": [
      "\u001b[0;31m---------------------------------------------------------------------------\u001b[0m",
      "\u001b[0;31mNameError\u001b[0m                                 Traceback (most recent call last)",
      "\u001b[0;32m<timed exec>\u001b[0m in \u001b[0;36m<module>\u001b[0;34m\u001b[0m\n",
      "\u001b[0;31mNameError\u001b[0m: name 'np' is not defined"
     ]
    }
   ],
   "source": [
    "%%time\n",
    "logit_c_values1 = np.logspace(-4, 2, 10)\n",
    "\n",
    "logit_grid_searcher1 = LogisticRegressionCV(\n",
    "    Cs=logit_c_values1,\n",
    "    random_state=17,\n",
    "    n_jobs=-1,\n",
    "    multi_class='multinomial',\n",
    "    cv=skf)\n",
    "logit_grid_searcher1.fit(X_train, y_train)"
   ]
  },
  {
   "cell_type": "code",
   "execution_count": 47,
   "metadata": {},
   "outputs": [
    {
     "data": {
      "text/plain": [
       "0.8773623247307458"
      ]
     },
     "execution_count": 47,
     "metadata": {},
     "output_type": "execute_result"
    }
   ],
   "source": [
    "logit_grid_searcher1.score(X_train, y_train)"
   ]
  },
  {
   "cell_type": "code",
   "execution_count": 73,
   "metadata": {},
   "outputs": [
    {
     "data": {
      "text/plain": [
       "array([1., 1., 1., 1., 1., 1., 1., 1., 1., 1.])"
      ]
     },
     "execution_count": 73,
     "metadata": {},
     "output_type": "execute_result"
    }
   ],
   "source": [
    "logit_grid_searcher1.C_"
   ]
  },
  {
   "cell_type": "markdown",
   "metadata": {},
   "source": [
    "Средние значения доли правильных ответов на кросс-валидации по каждому из 10 параметров `C`."
   ]
  },
  {
   "cell_type": "code",
   "execution_count": 64,
   "metadata": {},
   "outputs": [
    {
     "data": {
      "text/plain": [
       "[0.31954964280669934,\n",
       " 0.4730739686244775,\n",
       " 0.552022360820987,\n",
       " 0.6487503500073099,\n",
       " 0.7143884597943816,\n",
       " 0.7517796168132359,\n",
       " 0.7608222569958099,\n",
       " 0.7581806000550101,\n",
       " 0.7493407782675815,\n",
       " 0.7393838136796484]"
      ]
     },
     "execution_count": 64,
     "metadata": {},
     "output_type": "execute_result"
    }
   ],
   "source": [
    "cs = []\n",
    "for i in range(len(logit_c_values1)):\n",
    "    c = logit_c_values1[i]\n",
    "    scores = list()\n",
    "    for k,v in logit_grid_searcher1.scores_.items():\n",
    "        scores.extend(v[:,i])\n",
    "    cs.append((c, np.mean(scores)))\n",
    "cs_sorted = sorted(cs, key = lambda x : x[1], reverse= True)\n",
    "logit_mean_cv_scores1 = [x[1] for x in cs]\n",
    "logit_mean_cv_scores1"
   ]
  },
  {
   "cell_type": "code",
   "execution_count": 192,
   "metadata": {},
   "outputs": [
    {
     "data": {
      "text/plain": [
       "{31: array([[0.31819567, 0.47637915, 0.55105151, 0.65437367, 0.71258763,\n",
       "         0.75038098, 0.76165803, 0.7561719 , 0.74946663, 0.7397135 ],\n",
       "        [0.31331911, 0.47576958, 0.54891801, 0.64218226, 0.704968  ,\n",
       "         0.73818958, 0.74733313, 0.74672356, 0.73727522, 0.72355989],\n",
       "        [0.32713415, 0.46707317, 0.55609756, 0.64969512, 0.72560976,\n",
       "         0.76676829, 0.77347561, 0.77164634, 0.76128049, 0.75487805]]),\n",
       " 33: array([[0.31819567, 0.47637915, 0.55105151, 0.65437367, 0.71258763,\n",
       "         0.75038098, 0.76165803, 0.7561719 , 0.74946663, 0.7397135 ],\n",
       "        [0.31331911, 0.47576958, 0.54891801, 0.64218226, 0.704968  ,\n",
       "         0.73818958, 0.74733313, 0.74672356, 0.73727522, 0.72355989],\n",
       "        [0.32713415, 0.46707317, 0.55609756, 0.64969512, 0.72560976,\n",
       "         0.76676829, 0.77347561, 0.77164634, 0.76128049, 0.75487805]]),\n",
       " 39: array([[0.31819567, 0.47637915, 0.55105151, 0.65437367, 0.71258763,\n",
       "         0.75038098, 0.76165803, 0.7561719 , 0.74946663, 0.7397135 ],\n",
       "        [0.31331911, 0.47576958, 0.54891801, 0.64218226, 0.704968  ,\n",
       "         0.73818958, 0.74733313, 0.74672356, 0.73727522, 0.72355989],\n",
       "        [0.32713415, 0.46707317, 0.55609756, 0.64969512, 0.72560976,\n",
       "         0.76676829, 0.77347561, 0.77164634, 0.76128049, 0.75487805]]),\n",
       " 50: array([[0.31819567, 0.47637915, 0.55105151, 0.65437367, 0.71258763,\n",
       "         0.75038098, 0.76165803, 0.7561719 , 0.74946663, 0.7397135 ],\n",
       "        [0.31331911, 0.47576958, 0.54891801, 0.64218226, 0.704968  ,\n",
       "         0.73818958, 0.74733313, 0.74672356, 0.73727522, 0.72355989],\n",
       "        [0.32713415, 0.46707317, 0.55609756, 0.64969512, 0.72560976,\n",
       "         0.76676829, 0.77347561, 0.77164634, 0.76128049, 0.75487805]]),\n",
       " 100: array([[0.31819567, 0.47637915, 0.55105151, 0.65437367, 0.71258763,\n",
       "         0.75038098, 0.76165803, 0.7561719 , 0.74946663, 0.7397135 ],\n",
       "        [0.31331911, 0.47576958, 0.54891801, 0.64218226, 0.704968  ,\n",
       "         0.73818958, 0.74733313, 0.74672356, 0.73727522, 0.72355989],\n",
       "        [0.32713415, 0.46707317, 0.55609756, 0.64969512, 0.72560976,\n",
       "         0.76676829, 0.77347561, 0.77164634, 0.76128049, 0.75487805]]),\n",
       " 127: array([[0.31819567, 0.47637915, 0.55105151, 0.65437367, 0.71258763,\n",
       "         0.75038098, 0.76165803, 0.7561719 , 0.74946663, 0.7397135 ],\n",
       "        [0.31331911, 0.47576958, 0.54891801, 0.64218226, 0.704968  ,\n",
       "         0.73818958, 0.74733313, 0.74672356, 0.73727522, 0.72355989],\n",
       "        [0.32713415, 0.46707317, 0.55609756, 0.64969512, 0.72560976,\n",
       "         0.76676829, 0.77347561, 0.77164634, 0.76128049, 0.75487805]]),\n",
       " 128: array([[0.31819567, 0.47637915, 0.55105151, 0.65437367, 0.71258763,\n",
       "         0.75038098, 0.76165803, 0.7561719 , 0.74946663, 0.7397135 ],\n",
       "        [0.31331911, 0.47576958, 0.54891801, 0.64218226, 0.704968  ,\n",
       "         0.73818958, 0.74733313, 0.74672356, 0.73727522, 0.72355989],\n",
       "        [0.32713415, 0.46707317, 0.55609756, 0.64969512, 0.72560976,\n",
       "         0.76676829, 0.77347561, 0.77164634, 0.76128049, 0.75487805]]),\n",
       " 207: array([[0.31819567, 0.47637915, 0.55105151, 0.65437367, 0.71258763,\n",
       "         0.75038098, 0.76165803, 0.7561719 , 0.74946663, 0.7397135 ],\n",
       "        [0.31331911, 0.47576958, 0.54891801, 0.64218226, 0.704968  ,\n",
       "         0.73818958, 0.74733313, 0.74672356, 0.73727522, 0.72355989],\n",
       "        [0.32713415, 0.46707317, 0.55609756, 0.64969512, 0.72560976,\n",
       "         0.76676829, 0.77347561, 0.77164634, 0.76128049, 0.75487805]]),\n",
       " 237: array([[0.31819567, 0.47637915, 0.55105151, 0.65437367, 0.71258763,\n",
       "         0.75038098, 0.76165803, 0.7561719 , 0.74946663, 0.7397135 ],\n",
       "        [0.31331911, 0.47576958, 0.54891801, 0.64218226, 0.704968  ,\n",
       "         0.73818958, 0.74733313, 0.74672356, 0.73727522, 0.72355989],\n",
       "        [0.32713415, 0.46707317, 0.55609756, 0.64969512, 0.72560976,\n",
       "         0.76676829, 0.77347561, 0.77164634, 0.76128049, 0.75487805]]),\n",
       " 241: array([[0.31819567, 0.47637915, 0.55105151, 0.65437367, 0.71258763,\n",
       "         0.75038098, 0.76165803, 0.7561719 , 0.74946663, 0.7397135 ],\n",
       "        [0.31331911, 0.47576958, 0.54891801, 0.64218226, 0.704968  ,\n",
       "         0.73818958, 0.74733313, 0.74672356, 0.73727522, 0.72355989],\n",
       "        [0.32713415, 0.46707317, 0.55609756, 0.64969512, 0.72560976,\n",
       "         0.76676829, 0.77347561, 0.77164634, 0.76128049, 0.75487805]])}"
      ]
     },
     "execution_count": 192,
     "metadata": {},
     "output_type": "execute_result"
    }
   ],
   "source": [
    "logit_grid_searcher1.scores_"
   ]
  },
  {
   "cell_type": "markdown",
   "metadata": {},
   "source": [
    "Выведите лучшее значение доли правильных ответов на кросс-валидации и соответствующее значение `C`."
   ]
  },
  {
   "cell_type": "code",
   "execution_count": 66,
   "metadata": {},
   "outputs": [
    {
     "data": {
      "text/plain": [
       "(0.7608222569958099, 1.0)"
      ]
     },
     "execution_count": 66,
     "metadata": {},
     "output_type": "execute_result"
    }
   ],
   "source": [
    "cs_sorted[0][1], cs_sorted[0][0]"
   ]
  },
  {
   "cell_type": "markdown",
   "metadata": {},
   "source": [
    "Нарисуйте график зависимости доли правильных ответов на кросс-валидации от `C`."
   ]
  },
  {
   "cell_type": "code",
   "execution_count": 1,
   "metadata": {},
   "outputs": [
    {
     "ename": "NameError",
     "evalue": "name 'logit_c_values1' is not defined",
     "output_type": "error",
     "traceback": [
      "\u001b[0;31m---------------------------------------------------------------------------\u001b[0m",
      "\u001b[0;31mNameError\u001b[0m                                 Traceback (most recent call last)",
      "\u001b[0;32m<ipython-input-1-c895c732edf1>\u001b[0m in \u001b[0;36m<module>\u001b[0;34m\u001b[0m\n\u001b[0;32m----> 1\u001b[0;31m \u001b[0mlogit_c_values1\u001b[0m\u001b[0;34m.\u001b[0m\u001b[0mC_\u001b[0m\u001b[0;34m\u001b[0m\u001b[0;34m\u001b[0m\u001b[0m\n\u001b[0m",
      "\u001b[0;31mNameError\u001b[0m: name 'logit_c_values1' is not defined"
     ]
    }
   ],
   "source": [
    "logit_c_values1.C_"
   ]
  },
  {
   "cell_type": "code",
   "execution_count": 67,
   "metadata": {},
   "outputs": [],
   "source": [
    "logit_c_values1 = [x[0] for x in cs]"
   ]
  },
  {
   "cell_type": "code",
   "execution_count": 68,
   "metadata": {},
   "outputs": [
    {
     "data": {
      "image/png": "[encoded data removed]",
      "text/plain": [
       "<Figure size 432x288 with 1 Axes>"
      ]
     },
     "metadata": {
      "needs_background": "light"
     },
     "output_type": "display_data"
    }
   ],
   "source": [
    "plt.plot(logit_c_values1, logit_mean_cv_scores1);"
   ]
  },
  {
   "cell_type": "markdown",
   "metadata": {},
   "source": [
    "**Теперь то же самое, только значения параметра `C` перебирайте в диапазоне `np.linspace`(0.1, 7, 20). Опять нарисуйте кривые валидации, определите максимальное значение доли правильных ответов на кросс-валидации.**"
   ]
  },
  {
   "cell_type": "code",
   "execution_count": 174,
   "metadata": {
    "scrolled": true
   },
   "outputs": [
    {
     "name": "stdout",
     "output_type": "stream",
     "text": [
      "CPU times: user 7.69 s, sys: 564 ms, total: 8.25 s\n",
      "Wall time: 39.7 s\n"
     ]
    },
    {
     "data": {
      "text/plain": [
       "LogisticRegressionCV(Cs=array([0.1       , 0.46315789, 0.82631579, 1.18947368, 1.55263158,\n",
       "       1.91578947, 2.27894737, 2.64210526, 3.00526316, 3.36842105,\n",
       "       3.73157895, 4.09473684, 4.45789474, 4.82105263, 5.18421053,\n",
       "       5.54736842, 5.91052632, 6.27368421, 6.63684211, 7.        ]),\n",
       "                     class_weight=None,\n",
       "                     cv=StratifiedKFold(n_splits=3, random_state=17, shuffle=True),\n",
       "                     dual=False, fit_intercept=True, intercept_scaling=1.0,\n",
       "                     l1_ratios=None, max_iter=100, multi_class='multinomial',\n",
       "                     n_jobs=-1, penalty='l2', random_state=17, refit=True,\n",
       "                     scoring=None, solver='lbfgs', tol=0.0001, verbose=0)"
      ]
     },
     "execution_count": 174,
     "metadata": {},
     "output_type": "execute_result"
    }
   ],
   "source": [
    "%%time\n",
    "logit_c_values2 = np.linspace(0.1, 7, 20)\n",
    "\n",
    "logit_grid_searcher2 = LogisticRegressionCV(\n",
    "    Cs=logit_c_values2,\n",
    "    random_state=17,\n",
    "    n_jobs=-1,\n",
    "    multi_class='multinomial',\n",
    "    cv=skf)\n",
    "logit_grid_searcher2.fit(X_train, y_train)"
   ]
  },
  {
   "cell_type": "code",
   "execution_count": 82,
   "metadata": {},
   "outputs": [
    {
     "data": {
      "text/plain": [
       "0.8847795163584637"
      ]
     },
     "execution_count": 82,
     "metadata": {},
     "output_type": "execute_result"
    }
   ],
   "source": [
    "logit_grid_searcher2.score(X_train, y_train)"
   ]
  },
  {
   "cell_type": "code",
   "execution_count": 175,
   "metadata": {
    "scrolled": true
   },
   "outputs": [
    {
     "data": {
      "text/plain": [
       "array([1.55263158, 1.55263158, 1.55263158, 1.55263158, 1.55263158,\n",
       "       1.55263158, 1.55263158, 1.55263158, 1.55263158, 1.55263158])"
      ]
     },
     "execution_count": 175,
     "metadata": {},
     "output_type": "execute_result"
    }
   ],
   "source": [
    "logit_grid_searcher2.C_"
   ]
  },
  {
   "cell_type": "code",
   "execution_count": 176,
   "metadata": {},
   "outputs": [
    {
     "data": {
      "text/plain": [
       "1.5526315789473686"
      ]
     },
     "execution_count": 176,
     "metadata": {},
     "output_type": "execute_result"
    }
   ],
   "source": [
    "logit_grid_searcher2.C_[0]"
   ]
  },
  {
   "cell_type": "code",
   "execution_count": null,
   "metadata": {},
   "outputs": [],
   "source": [
    "logit_grid_searcher2"
   ]
  },
  {
   "cell_type": "code",
   "execution_count": 203,
   "metadata": {},
   "outputs": [
    {
     "data": {
      "text/plain": [
       "[0.7348111695076108,\n",
       " 0.759196519502531,\n",
       " 0.7610254161060356,\n",
       " 0.7606189739891912,\n",
       " 0.7616350483072035,\n",
       " 0.7614319201710761,\n",
       " 0.7598061826777974,\n",
       " 0.7593997405609534,\n",
       " 0.7598061517036994,\n",
       " 0.7593998025091498,\n",
       " 0.759298207466988,\n",
       " 0.7585869802236578,\n",
       " 0.7577742198863623,\n",
       " 0.7571646496333907,\n",
       " 0.7570630236171302,\n",
       " 0.7559453852310545,\n",
       " 0.7554374409943431,\n",
       " 0.7551325939196606,\n",
       " 0.7541166125239429,\n",
       " 0.7531005072318325]"
      ]
     },
     "execution_count": 203,
     "metadata": {},
     "output_type": "execute_result"
    }
   ],
   "source": [
    "cs = []\n",
    "for i in range(len(logit_grid_searcher2.Cs_)):\n",
    "    c = logit_c_values2[i]\n",
    "    scores = list()\n",
    "    for k,v in logit_grid_searcher2.scores_.items():\n",
    "        scores.extend(v[:,i])\n",
    "    cs.append((c, np.mean(scores)))\n",
    "cs_sorted = sorted(cs, key = lambda x : x[1], reverse= True)\n",
    "logit_mean_cv_scores2 = [x[1] for x in cs]\n",
    "logit_mean_cv_scores2"
   ]
  },
  {
   "cell_type": "code",
   "execution_count": 226,
   "metadata": {
    "scrolled": true
   },
   "outputs": [],
   "source": [
    "cs = []\n",
    "for i in range(len(logit_grid_searcher2.Cs_)):\n",
    "    c = logit_c_values2[i]\n",
    "    scores = list()\n",
    "    for k,v in logit_grid_searcher2.scores_.items():\n",
    "        scores.extend(v[:,i])\n",
    "    cs.append((c, np.max(scores)))\n",
    "cs = np.array(cs)\n"
   ]
  },
  {
   "cell_type": "code",
   "execution_count": 228,
   "metadata": {},
   "outputs": [
    {
     "data": {
      "text/plain": [
       "5"
      ]
     },
     "execution_count": 228,
     "metadata": {},
     "output_type": "execute_result"
    }
   ],
   "source": [
    "np.argmax(cs[:,1])"
   ]
  },
  {
   "cell_type": "code",
   "execution_count": 202,
   "metadata": {},
   "outputs": [
    {
     "name": "stdout",
     "output_type": "stream",
     "text": [
      "0.774390243902439\n",
      "0.774390243902439\n",
      "0.774390243902439\n",
      "0.774390243902439\n",
      "0.774390243902439\n",
      "0.774390243902439\n",
      "0.774390243902439\n",
      "0.774390243902439\n",
      "0.774390243902439\n",
      "0.774390243902439\n"
     ]
    }
   ],
   "source": [
    "for k, v in logit_grid_searcher2.scores_.items():\n",
    "    print(np.max(v))"
   ]
  },
  {
   "cell_type": "markdown",
   "metadata": {},
   "source": [
    "Средние значения доли правильных ответов на кросс-валидации по каждому из 10 параметров `C`."
   ]
  },
  {
   "cell_type": "code",
   "execution_count": null,
   "metadata": {},
   "outputs": [],
   "source": [
    "''' ВАШ КОД ЗДЕСЬ '''"
   ]
  },
  {
   "cell_type": "code",
   "execution_count": 195,
   "metadata": {},
   "outputs": [
    {
     "data": {
      "text/plain": [
       "array([1.55263158, 1.55263158, 1.55263158, 1.55263158, 1.55263158,\n",
       "       1.55263158, 1.55263158, 1.55263158, 1.55263158, 1.55263158])"
      ]
     },
     "execution_count": 195,
     "metadata": {},
     "output_type": "execute_result"
    }
   ],
   "source": [
    "logit_grid_searcher2.C_"
   ]
  },
  {
   "cell_type": "markdown",
   "metadata": {},
   "source": [
    "Выведите лучшее значение доли правильных ответов на кросс-валидации и соответствующее значение `C`."
   ]
  },
  {
   "cell_type": "code",
   "execution_count": 77,
   "metadata": {},
   "outputs": [
    {
     "data": {
      "text/plain": [
       "(0.7616350483072035, 1.5526315789473686)"
      ]
     },
     "execution_count": 77,
     "metadata": {},
     "output_type": "execute_result"
    }
   ],
   "source": [
    "cs_sorted[0][1], cs_sorted[0][0]"
   ]
  },
  {
   "cell_type": "markdown",
   "metadata": {},
   "source": [
    "Нарисуйте график зависимости доли правильных ответов на кросс-валидации от `C`."
   ]
  },
  {
   "cell_type": "code",
   "execution_count": 78,
   "metadata": {},
   "outputs": [],
   "source": [
    "logit_c_values2 = [x[0] for x in cs]"
   ]
  },
  {
   "cell_type": "code",
   "execution_count": 79,
   "metadata": {},
   "outputs": [
    {
     "data": {
      "image/png": "[encoded data removed]",
      "text/plain": [
       "<Figure size 432x288 with 1 Axes>"
      ]
     },
     "metadata": {
      "needs_background": "light"
     },
     "output_type": "display_data"
    }
   ],
   "source": [
    "plt.plot(logit_c_values2, logit_mean_cv_scores2);"
   ]
  },
  {
   "cell_type": "markdown",
   "metadata": {},
   "source": [
    "Выведите долю правильных ответов на выборке `(X_valid, y_valid)` для логистической регрессии с лучшим найденным значением `C`."
   ]
  },
  {
   "cell_type": "markdown",
   "metadata": {},
   "source": [
    "**<font color='red'>Вопрос 3. </font>Посчитайте доли правильных ответов для `logit_grid_searcher2` на кросс-валидации для лучшего значения параметра `C` и на отложенной выборке. Округлите каждое до 3 знаков после запятой и выведите через пробел.**"
   ]
  },
  {
   "cell_type": "code",
   "execution_count": 89,
   "metadata": {},
   "outputs": [
    {
     "data": {
      "text/plain": [
       "'0.762'"
      ]
     },
     "execution_count": 89,
     "metadata": {},
     "output_type": "execute_result"
    }
   ],
   "source": [
    "logit_cv_acc = cross_val_score(\n",
    "    LogisticRegression(C = cs_sorted[0][0],random_state=17, n_jobs=-1), \n",
    "    X_train, \n",
    "    y_train, \n",
    "    cv = skf, \n",
    "    n_jobs=-1)\n",
    "a3_1 = str(round(np.mean(logit_cv_acc),3))\n",
    "a3_1"
   ]
  },
  {
   "cell_type": "code",
   "execution_count": 92,
   "metadata": {},
   "outputs": [
    {
     "data": {
      "text/plain": [
       "'0.779'"
      ]
     },
     "execution_count": 92,
     "metadata": {},
     "output_type": "execute_result"
    }
   ],
   "source": [
    "logit_valid_acc = accuracy_score(y_valid, logit_grid_searcher2.predict(X_valid))\n",
    "a3_2 = str(round(logit_valid_acc,3))\n",
    "a3_2"
   ]
  },
  {
   "cell_type": "code",
   "execution_count": 93,
   "metadata": {},
   "outputs": [],
   "source": [
    "answer3 = \" \".join([a3_1, a3_2])\n",
    "write_answer(3, answer3)\n",
    "\n",
    "!cat task4_3_answer"
   ]
  },
  {
   "cell_type": "markdown",
   "metadata": {},
   "source": [
    "**4. Обучите линейный SVM (`LinearSVC`) с параметром `C`=1 и `random_state`=17 (для воспроизводимости). Посмотрите на долю правильных ответов на кросс-валидации (используйте объект `skf`, созданный ранее) и на выборке `(X_valid, y_valid)`.**"
   ]
  },
  {
   "cell_type": "code",
   "execution_count": 96,
   "metadata": {},
   "outputs": [],
   "source": [
    "from sklearn.svm import LinearSVC"
   ]
  },
  {
   "cell_type": "code",
   "execution_count": 98,
   "metadata": {},
   "outputs": [],
   "source": [
    "svm = LinearSVC(C = 1, random_state=17)"
   ]
  },
  {
   "cell_type": "markdown",
   "metadata": {},
   "source": [
    "**С помощью `GridSearchCV` подберите параметр `C` для SVM сначала в широком диапазоне: 10 значений от 1e-4 до 1e4, используйте `linspace` из NumPy. Нарисуйте кривые валидации.**"
   ]
  },
  {
   "cell_type": "code",
   "execution_count": 105,
   "metadata": {},
   "outputs": [
    {
     "name": "stdout",
     "output_type": "stream",
     "text": [
      "CPU times: user 3.45 s, sys: 140 ms, total: 3.59 s\n",
      "Wall time: 21.5 s\n"
     ]
    },
    {
     "data": {
      "text/plain": [
       "GridSearchCV(cv=StratifiedKFold(n_splits=3, random_state=17, shuffle=True),\n",
       "             error_score=nan,\n",
       "             estimator=LinearSVC(C=1, class_weight=None, dual=True,\n",
       "                                 fit_intercept=True, intercept_scaling=1,\n",
       "                                 loss='squared_hinge', max_iter=1000,\n",
       "                                 multi_class='ovr', penalty='l2',\n",
       "                                 random_state=17, tol=0.0001, verbose=0),\n",
       "             iid='deprecated', n_jobs=-1,\n",
       "             param_grid={'C': array([1.0000000e-04, 1.1111112e+03, 2.2222223e+03, 3.3333334e+03,\n",
       "       4.4444445e+03, 5.5555556e+03, 6.6666667e+03, 7.7777778e+03,\n",
       "       8.8888889e+03, 1.0000000e+04])},\n",
       "             pre_dispatch='2*n_jobs', refit=True, return_train_score=True,\n",
       "             scoring=None, verbose=0)"
      ]
     },
     "execution_count": 105,
     "metadata": {},
     "output_type": "execute_result"
    }
   ],
   "source": [
    "%%time\n",
    "svm_params1 = {'C': np.linspace(1e-4, 1e4, 10)}\n",
    "\n",
    "svm_grid_searcher1 = GridSearchCV(svm, svm_params1, n_jobs = -1, cv = skf, return_train_score = True)\n",
    "svm_grid_searcher1.fit(X_train, y_train)"
   ]
  },
  {
   "cell_type": "markdown",
   "metadata": {},
   "source": [
    "Выведите лучшее значение доли правильных ответов на кросс-валидации и соответствующее значение `C`."
   ]
  },
  {
   "cell_type": "code",
   "execution_count": 106,
   "metadata": {},
   "outputs": [
    {
     "data": {
      "text/plain": [
       "({'C': 2222.2223000000004}, 0.6868546856376824)"
      ]
     },
     "execution_count": 106,
     "metadata": {},
     "output_type": "execute_result"
    }
   ],
   "source": [
    "svm_grid_searcher1.best_params_, svm_grid_searcher1.best_score_"
   ]
  },
  {
   "cell_type": "markdown",
   "metadata": {},
   "source": [
    "Нарисуйте график зависимости доли правильных ответов на кросс-валидации от `C`."
   ]
  },
  {
   "cell_type": "code",
   "execution_count": 107,
   "metadata": {},
   "outputs": [
    {
     "data": {
      "text/plain": [
       "{'mean_fit_time': array([0.14861552, 5.06071297, 5.25968258, 5.4339265 , 4.83416335,\n",
       "        5.11324128, 5.04311482, 4.87181528, 4.74686869, 2.432386  ]),\n",
       " 'std_fit_time': array([0.00618847, 0.36262641, 0.23098733, 0.17590846, 0.26711531,\n",
       "        0.34514473, 0.44318082, 0.25826322, 0.14278064, 0.27188294]),\n",
       " 'mean_score_time': array([0.00213695, 0.0022881 , 0.00221078, 0.00207392, 0.00209006,\n",
       "        0.00208028, 0.00215729, 0.00206931, 0.00165828, 0.00109943]),\n",
       " 'std_score_time': array([6.21600720e-05, 9.82639409e-06, 1.25759165e-04, 6.30595984e-06,\n",
       "        7.04131331e-06, 1.02941131e-05, 4.61187791e-05, 2.05476921e-05,\n",
       "        3.10077048e-04, 4.11419259e-05]),\n",
       " 'param_C': masked_array(data=[0.0001, 1111.1112, 2222.2223000000004,\n",
       "                    3333.3334000000004, 4444.4445000000005,\n",
       "                    5555.555600000001, 6666.666700000001,\n",
       "                    7777.777800000001, 8888.8889, 10000.0],\n",
       "              mask=[False, False, False, False, False, False, False, False,\n",
       "                    False, False],\n",
       "        fill_value='?',\n",
       "             dtype=object),\n",
       " 'params': [{'C': 0.0001},\n",
       "  {'C': 1111.1112},\n",
       "  {'C': 2222.2223000000004},\n",
       "  {'C': 3333.3334000000004},\n",
       "  {'C': 4444.4445000000005},\n",
       "  {'C': 5555.555600000001},\n",
       "  {'C': 6666.666700000001},\n",
       "  {'C': 7777.777800000001},\n",
       "  {'C': 8888.8889},\n",
       "  {'C': 10000.0}],\n",
       " 'split0_test_score': array([0.56019506, 0.67266077, 0.67814691, 0.69338616, 0.69612923,\n",
       "        0.64218226, 0.68759525, 0.69003353, 0.68972874, 0.66229808]),\n",
       " 'split1_test_score': array([0.55928071, 0.66351722, 0.67174642, 0.67357513, 0.68424261,\n",
       "        0.65071625, 0.66991771, 0.668089  , 0.66991771, 0.67235599]),\n",
       " 'split2_test_score': array([0.56189024, 0.68262195, 0.71067073, 0.66981707, 0.67012195,\n",
       "        0.7       , 0.65487805, 0.69268293, 0.65365854, 0.7097561 ]),\n",
       " 'mean_test_score': array([0.56045534, 0.67293332, 0.68685469, 0.67892612, 0.68349793,\n",
       "        0.6642995 , 0.670797  , 0.68360182, 0.67110166, 0.68147006]),\n",
       " 'std_test_score': array([0.00108112, 0.00780185, 0.017042  , 0.01033926, 0.01063048,\n",
       "        0.02548335, 0.0133712 , 0.01102242, 0.01474938, 0.02041838]),\n",
       " 'rank_test_score': array([10,  6,  1,  5,  3,  9,  8,  2,  7,  4], dtype=int32),\n",
       " 'split0_train_score': array([0.57201646, 0.86495961, 0.85992989, 0.88096327, 0.88355434,\n",
       "        0.82441701, 0.87639079, 0.86785551, 0.86450236, 0.85871056]),\n",
       " 'split1_train_score': array([0.57003506, 0.87364731, 0.88248743, 0.88050602, 0.88538333,\n",
       "        0.85992989, 0.87471422, 0.87319006, 0.86861759, 0.87989636]),\n",
       " 'split2_train_score': array([0.57269125, 0.86117037, 0.88281012, 0.85537946, 0.84760744,\n",
       "        0.87442853, 0.84532155, 0.87138068, 0.83008229, 0.88372447]),\n",
       " 'mean_train_score': array([0.57158092, 0.86659243, 0.87507581, 0.87228292, 0.8721817 ,\n",
       "        0.85292514, 0.86547552, 0.87080875, 0.85440075, 0.87411046]),\n",
       " 'std_train_score': array([0.00112727, 0.0052229 , 0.01071059, 0.01195401, 0.01739266,\n",
       "        0.02100933, 0.01426744, 0.00221505, 0.01727762, 0.01100095])}"
      ]
     },
     "execution_count": 107,
     "metadata": {},
     "output_type": "execute_result"
    }
   ],
   "source": [
    "svm_grid_searcher1.cv_results_"
   ]
  },
  {
   "cell_type": "code",
   "execution_count": 108,
   "metadata": {},
   "outputs": [],
   "source": [
    "def plot_validation_curves(param_values, grid_cv_results_):\n",
    "    train_mu, train_std = grid_cv_results_['mean_train_score'], grid_cv_results_['std_train_score']\n",
    "    valid_mu, valid_std = grid_cv_results_['mean_test_score'], grid_cv_results_['std_test_score']\n",
    "    train_line = plt.plot(param_values, train_mu, '-', label='train', color='green')\n",
    "    valid_line = plt.plot(param_values, valid_mu, '-', label='test', color='red')\n",
    "    plt.fill_between(param_values, train_mu - train_std, train_mu + train_std, edgecolor='none',\n",
    "                     facecolor=train_line[0].get_color(), alpha=0.2)\n",
    "    plt.fill_between(param_values, valid_mu - valid_std, valid_mu + valid_std, edgecolor='none',\n",
    "                     facecolor=valid_line[0].get_color(), alpha=0.2)\n",
    "    plt.legend()"
   ]
  },
  {
   "cell_type": "code",
   "execution_count": 109,
   "metadata": {},
   "outputs": [
    {
     "data": {
      "image/png": "[encoded data removed]",
      "text/plain": [
       "<Figure size 432x288 with 1 Axes>"
      ]
     },
     "metadata": {
      "needs_background": "light"
     },
     "output_type": "display_data"
    }
   ],
   "source": [
    "plot_validation_curves(svm_params1['C'], svm_grid_searcher1.cv_results_)"
   ]
  },
  {
   "cell_type": "markdown",
   "metadata": {},
   "source": [
    "**Но мы помним, что с параметром регуляризации по умолчанию (С=1) на кросс-валидации доля правильных ответов выше. Это тот случай (не редкий), когда можно ошибиться и перебирать параметры не в том диапазоне (причина в том, что мы взяли равномерную сетку на большом интервале и упустили действительно хороший интервал значений `C`). Здесь намного осмысленней подбирать `C` в районе 1, к тому же, так модель быстрее обучается, чем при больших `C`. **\n",
    "\n",
    "**С помощью `GridSearchCV` подберите параметр `C` для SVM в диапазоне (1e-3, 1), 30 значений, используйте `linspace` из NumPy. Нарисуйте кривые валидации.**"
   ]
  },
  {
   "cell_type": "code",
   "execution_count": 110,
   "metadata": {},
   "outputs": [
    {
     "name": "stdout",
     "output_type": "stream",
     "text": [
      "CPU times: user 976 ms, sys: 30.1 ms, total: 1.01 s\n",
      "Wall time: 32.4 s\n"
     ]
    },
    {
     "data": {
      "text/plain": [
       "GridSearchCV(cv=StratifiedKFold(n_splits=3, random_state=17, shuffle=True),\n",
       "             error_score=nan,\n",
       "             estimator=LinearSVC(C=1, class_weight=None, dual=True,\n",
       "                                 fit_intercept=True, intercept_scaling=1,\n",
       "                                 loss='squared_hinge', max_iter=1000,\n",
       "                                 multi_class='ovr', penalty='l2',\n",
       "                                 random_state=17, tol=0.0001, verbose=0),\n",
       "             iid='deprecated', n_jobs=-1,\n",
       "             param_grid={'C': array([0.001     , 0.03544828...\n",
       "       0.17324138, 0.20768966, 0.24213793, 0.27658621, 0.31103448,\n",
       "       0.34548276, 0.37993103, 0.41437931, 0.44882759, 0.48327586,\n",
       "       0.51772414, 0.55217241, 0.58662069, 0.62106897, 0.65551724,\n",
       "       0.68996552, 0.72441379, 0.75886207, 0.79331034, 0.82775862,\n",
       "       0.8622069 , 0.89665517, 0.93110345, 0.96555172, 1.        ])},\n",
       "             pre_dispatch='2*n_jobs', refit=True, return_train_score=True,\n",
       "             scoring=None, verbose=0)"
      ]
     },
     "execution_count": 110,
     "metadata": {},
     "output_type": "execute_result"
    }
   ],
   "source": [
    "%%time\n",
    "svm_params2 = {'C': np.linspace(1e-3, 1, 30)}\n",
    "\n",
    "svm_grid_searcher2 =  GridSearchCV(svm, svm_params2, n_jobs = -1, cv = skf, return_train_score = True)\n",
    "svm_grid_searcher2.fit(X_train, y_train)"
   ]
  },
  {
   "cell_type": "markdown",
   "metadata": {},
   "source": [
    "Выведите лучшее значение доли правильных ответов на кросс-валидации и соответствующее значение `C`."
   ]
  },
  {
   "cell_type": "code",
   "execution_count": 114,
   "metadata": {},
   "outputs": [
    {
     "data": {
      "text/plain": [
       "(0.7670206386611259, {'C': 0.10434482758620689})"
      ]
     },
     "execution_count": 114,
     "metadata": {},
     "output_type": "execute_result"
    }
   ],
   "source": [
    " svm_grid_searcher2.best_score_, svm_grid_searcher2.best_params_"
   ]
  },
  {
   "cell_type": "markdown",
   "metadata": {},
   "source": [
    "Нарисуйте график зависимости доли правильных ответов на кросс-валидации от С."
   ]
  },
  {
   "cell_type": "code",
   "execution_count": 113,
   "metadata": {},
   "outputs": [
    {
     "data": {
      "image/png": "[encoded data removed]",
      "text/plain": [
       "<Figure size 432x288 with 1 Axes>"
      ]
     },
     "metadata": {
      "needs_background": "light"
     },
     "output_type": "display_data"
    }
   ],
   "source": [
    "plot_validation_curves(svm_params2['C'], svm_grid_searcher2.cv_results_)"
   ]
  },
  {
   "cell_type": "markdown",
   "metadata": {},
   "source": [
    "Выведите долю правильных ответов на выборке `(X_valid, y_valid)` для `LinearSVC` с лучшим найденным значением `C`."
   ]
  },
  {
   "cell_type": "code",
   "execution_count": 122,
   "metadata": {},
   "outputs": [
    {
     "data": {
      "text/plain": [
       "'0.781'"
      ]
     },
     "execution_count": 122,
     "metadata": {},
     "output_type": "execute_result"
    }
   ],
   "source": [
    "svm_cv_acc = accuracy_score(y_valid, svm_grid_searcher2.predict(X_valid))\n",
    "a4_1 = str(round(svm_cv_acc,3))\n",
    "a4_1"
   ]
  },
  {
   "cell_type": "code",
   "execution_count": 123,
   "metadata": {},
   "outputs": [
    {
     "data": {
      "text/plain": [
       "'0.767'"
      ]
     },
     "execution_count": 123,
     "metadata": {},
     "output_type": "execute_result"
    }
   ],
   "source": [
    "logit_cross_valid_acc = cross_val_score(\n",
    "    LinearSVC(C = svm_grid_searcher2.best_params_['C'], random_state=17), \n",
    "    X_train, \n",
    "    y_train, \n",
    "    cv = skf, \n",
    "    n_jobs=-1)\n",
    "a4_2 = str(round(np.mean(logit_cross_valid_acc),3))\n",
    "a4_2"
   ]
  },
  {
   "cell_type": "markdown",
   "metadata": {},
   "source": [
    "**<font color='red'>Вопрос 4. </font> Посчитайте доли правильных ответов для `svm_grid_searcher2` на кросс-валидации для лучшего значения параметра `C` и на отложенной выборке. Округлите каждое до 3 знаков после запятой и выведите через пробел.**"
   ]
  },
  {
   "cell_type": "code",
   "execution_count": 124,
   "metadata": {},
   "outputs": [],
   "source": [
    "answer4 = \" \".join([a4_2, a4_1])\n",
    "write_answer(4, answer4)"
   ]
  },
  {
   "cell_type": "code",
   "execution_count": 125,
   "metadata": {},
   "outputs": [
    {
     "name": "stdout",
     "output_type": "stream",
     "text": [
      "0.767 0.781"
     ]
    }
   ],
   "source": [
    "!cat task4_4_answer"
   ]
  },
  {
   "cell_type": "markdown",
   "metadata": {},
   "source": [
    "## Часть 2. Выбор параметров – длины сессии и ширины окна"
   ]
  },
  {
   "cell_type": "markdown",
   "metadata": {},
   "source": [
    "**Возьмем `LinearSVC`, показавший лучшее качество на кросс-валидации в 1 части, и проверим его работу еще на 8 выборках для 10 пользователей (с разными сочетаниями параметров *session_length* и *window_size*). Поскольку тут уже вычислений побольше, мы не будем каждый раз заново подбирать параметр регуляризации `C`.**\n",
    "\n",
    "**Определите функцию `model_assessment`, ее документация описана ниже. Обратите внимание на все детали. Например, на то, что разбиение  выборки с `train_test_split` должно быть стратифицированным. Не теряйте нигде `random_state`.**"
   ]
  },
  {
   "cell_type": "code",
   "execution_count": null,
   "metadata": {},
   "outputs": [],
   "source": [
    "def model_assessment(estimator, path_to_X_pickle, path_to_y_pickle, cv, random_state=17, test_size=0.3):\n",
    "    '''\n",
    "    Estimates CV-accuracy for (1 - test_size) share of (X_sparse, y) \n",
    "    loaded from path_to_X_pickle and path_to_y_pickle and holdout accuracy for (test_size) share of (X_sparse, y).\n",
    "    The split is made with stratified train_test_split with params random_state and test_size.\n",
    "\n",
    "    :param estimator – Scikit-learn estimator (classifier or regressor)\n",
    "    :param path_to_X_pickle – path to pickled sparse X (instances and their features)\n",
    "    :param path_to_y_pickle – path to pickled y (responses)\n",
    "    :param cv – cross-validation as in cross_val_score (use StratifiedKFold here)\n",
    "    :param random_state –  for train_test_split\n",
    "    :param test_size –  for train_test_split\n",
    "\n",
    "    :returns mean CV-accuracy for (X_train, y_train) and accuracy for (X_valid, y_valid) where (X_train, y_train)\n",
    "    and (X_valid, y_valid) are (1 - test_size) and (testsize) shares of (X_sparse, y).\n",
    "    '''\n",
    "\n",
    "    with open(os.path.join(PATH_TO_DATA,          'X_sparse_10users.pkl'), 'rb') as X_sparse_10users_pkl:\n",
    "    X_sparse_10users = pickle.load(X_sparse_10users_pkl)\n",
    "    with open(os.path.join(PATH_TO_DATA,                        'y_10users.pkl'), 'rb') as y_10users_pkl:\n",
    "    y_10users = pickle.load(y_10users_pkl)\n",
    "\n",
    "    X_train, X_valid, y_train, y_valid = train_test_split(X_sparse_10users, y_10users,\n",
    "                                                          test_size=0.3,\n",
    "                                                          random_state=17, stratify=y_10users)\n",
    "\n",
    "    cross_val_score(\n",
    "        estimator,\n",
    "        X,\n",
    "        y,\n",
    "        cv)"
   ]
  },
  {
   "cell_type": "markdown",
   "metadata": {},
   "source": [
    "**Убедитесь, что функция работает.**"
   ]
  },
  {
   "cell_type": "code",
   "execution_count": null,
   "metadata": {},
   "outputs": [],
   "source": [
    "model_assessment(svm_grid_searcher2.best_estimator_, \n",
    "                 os.path.join(PATH_TO_DATA, 'X_sparse_10users.pkl'),\n",
    "        os.path.join(PATH_TO_DATA, 'y_10users.pkl'), skf, random_state=17, test_size=0.3)"
   ]
  },
  {
   "cell_type": "markdown",
   "metadata": {},
   "source": [
    "**Примените функцию *model_assessment* для лучшего алгоритма из предыдущей части (а именно, `svm_grid_searcher2.best_estimator_`) и 9 выборок вида с разными сочетаниями параметров *session_length* и *window_size* для 10 пользователей. Выведите в цикле параметры *session_length* и *window_size*, а также результат вывода функции *model_assessment*. \n",
    "Удобно сделать так, чтоб *model_assessment* возвращала 3-им элементом время, за которое она выполнилась. На моем ноуте этот участок кода выполнился за 20 секунд. Но со 150 пользователями каждая итерация занимает уже несколько минут.**"
   ]
  },
  {
   "cell_type": "markdown",
   "metadata": {},
   "source": [
    "Здесь для удобства стоит создать копии ранее созданных pickle-файлов X_sparse_10users.pkl, X_sparse_150users.pkl, y_10users.pkl и y_150users.pkl, добавив к их названиям s10_w10, что означает длину сессии 10 и ширину окна 10. "
   ]
  },
  {
   "cell_type": "code",
   "execution_count": null,
   "metadata": {},
   "outputs": [],
   "source": [
    "!cp $PATH_TO_DATA/X_sparse_10users.pkl $PATH_TO_DATA/X_sparse_10users_s10_w10.pkl \n",
    "!cp $PATH_TO_DATA/X_sparse_150users.pkl $PATH_TO_DATA/X_sparse_150users_s10_w10.pkl \n",
    "!cp $PATH_TO_DATA/y_10users.pkl $PATH_TO_DATA/y_10users_s10_w10.pkl \n",
    "!cp $PATH_TO_DATA/y_150users.pkl $PATH_TO_DATA/y_150users_s10_w10.pkl "
   ]
  },
  {
   "cell_type": "code",
   "execution_count": null,
   "metadata": {},
   "outputs": [],
   "source": [
    "%%time\n",
    "estimator = svm_grid_searcher2.best_estimator_\n",
    "\n",
    "for window_size, session_length in itertools.product([10, 7, 5], [15, 10, 7, 5]):\n",
    "    if window_size <= session_length:\n",
    "        path_to_X_pkl = ''' ВАШ КОД ЗДЕСЬ '''\n",
    "        path_to_y_pkl = ''' ВАШ КОД ЗДЕСЬ '''\n",
    "        print           ''' ВАШ КОД ЗДЕСЬ '''"
   ]
  },
  {
   "cell_type": "markdown",
   "metadata": {},
   "source": [
    "**<font color='red'>Вопрос 5. </font> Посчитайте доли правильных ответов для `LinearSVC` с настроенным параметром `C` и выборки `X_sparse_10users_s15_w5`. Укажите доли правильных ответов на кросс-валидации и на отложенной выборке. Округлите каждое до 3 знаков после запятой и выведите через пробел.**"
   ]
  },
  {
   "cell_type": "code",
   "execution_count": null,
   "metadata": {},
   "outputs": [],
   "source": [
    "''' ВАШ КОД ЗДЕСЬ '''"
   ]
  },
  {
   "cell_type": "markdown",
   "metadata": {},
   "source": [
    "**Прокомментируйте полученные результаты. Сравните для 150 пользователей доли правильных ответов на кросс-валидации и оставленной выборке для сочетаний параметров (*session_length, window_size*): (5,5), (7,7) и (10,10). На среднем ноуте это может занять до часа – запаситесь терпением, это Data Science :) **\n",
    "\n",
    "**Сделайте вывод о том, как качество классификации зависит от длины сессии и ширины окна.**"
   ]
  },
  {
   "cell_type": "code",
   "execution_count": null,
   "metadata": {},
   "outputs": [],
   "source": [
    "%%time\n",
    "estimator = svm_grid_searcher2.best_estimator_\n",
    "\n",
    "for window_size, session_length in [(5,5), (7,7), (10,10)]:\n",
    "    path_to_X_pkl = ''' ВАШ КОД ЗДЕСЬ '''\n",
    "    path_to_y_pkl = ''' ВАШ КОД ЗДЕСЬ '''\n",
    "    print           ''' ВАШ КОД ЗДЕСЬ '''"
   ]
  },
  {
   "cell_type": "markdown",
   "metadata": {},
   "source": [
    "**<font color='red'>Вопрос 6. </font> Посчитайте доли правильных ответов для `LinearSVC` с настроенным параметром `C` и выборки `X_sparse_150users`. Укажите доли правильных ответов на кросс-валидации и на отложенной выборке. Округлите каждое до 3 знаков после запятой и выведите через пробел.**"
   ]
  },
  {
   "cell_type": "code",
   "execution_count": null,
   "metadata": {},
   "outputs": [],
   "source": [
    "''' ВАШ КОД ЗДЕСЬ '''"
   ]
  },
  {
   "cell_type": "markdown",
   "metadata": {},
   "source": [
    "## Часть 3. Идентификация  конкретного пользователя и кривые обучения"
   ]
  },
  {
   "cell_type": "markdown",
   "metadata": {},
   "source": [
    "**Поскольку может разочаровать, что многоклассовая доля правильных ответов на выборке из 150 пользовалей невелика, порадуемся тому, что конкретного пользователя можно идентифицировать достаточно хорошо. **"
   ]
  },
  {
   "cell_type": "markdown",
   "metadata": {},
   "source": [
    "**Загрузим сериализованные ранее объекты *X_sparse_150users* и *y_150users*, соответствующие обучающей выборке для 150 пользователей с параметрами (*session_length, window_size*) = (10,10). Так же точно разобьем их на 70% и 30%.**"
   ]
  },
  {
   "cell_type": "code",
   "execution_count": 126,
   "metadata": {},
   "outputs": [],
   "source": [
    "with open(os.path.join(PATH_TO_DATA, 'X_sparse_150users.pkl'), 'rb') as X_sparse_150users_pkl:\n",
    "     X_sparse_150users = pickle.load(X_sparse_150users_pkl)\n",
    "with open(os.path.join(PATH_TO_DATA, 'y_150users.pkl'), 'rb') as y_150users_pkl:\n",
    "    y_150users = pickle.load(y_150users_pkl)"
   ]
  },
  {
   "cell_type": "code",
   "execution_count": 127,
   "metadata": {},
   "outputs": [],
   "source": [
    "X_train_150, X_valid_150, y_train_150, y_valid_150 = train_test_split(X_sparse_150users, \n",
    "                                                                      y_150users, test_size=0.3, \n",
    "                                                     random_state=17, stratify=y_150users)"
   ]
  },
  {
   "cell_type": "markdown",
   "metadata": {},
   "source": [
    "**Обучите `LogisticRegressionCV` для одного значения параметра `C` (лучшего на кросс-валидации в 1 части, используйте точное значение, не на глаз). Теперь будем решать 150 задач \"Один-против-Всех\", поэтому укажите аргумент `multi_class`='ovr'. Как всегда, где возможно, указывайте `n_jobs=-1` и `random_state`=17.**"
   ]
  },
  {
   "cell_type": "code",
   "execution_count": 204,
   "metadata": {
    "scrolled": true
   },
   "outputs": [
    {
     "data": {
      "text/plain": [
       "[(1.5526315789473686, 0.7616350483072035),\n",
       " (1.9157894736842107, 0.7614319201710761),\n",
       " (0.8263157894736842, 0.7610254161060356),\n",
       " (1.1894736842105265, 0.7606189739891912),\n",
       " (2.278947368421053, 0.7598061826777974),\n",
       " (3.005263157894737, 0.7598061517036994),\n",
       " (3.368421052631579, 0.7593998025091498),\n",
       " (2.642105263157895, 0.7593997405609534),\n",
       " (3.7315789473684213, 0.759298207466988),\n",
       " (0.4631578947368421, 0.759196519502531),\n",
       " (4.094736842105263, 0.7585869802236578),\n",
       " (4.457894736842105, 0.7577742198863623),\n",
       " (4.821052631578947, 0.7571646496333907),\n",
       " (5.184210526315789, 0.7570630236171302),\n",
       " (5.5473684210526315, 0.7559453852310545),\n",
       " (5.910526315789474, 0.7554374409943431),\n",
       " (6.273684210526316, 0.7551325939196606),\n",
       " (6.636842105263158, 0.7541166125239429),\n",
       " (7.0, 0.7531005072318325),\n",
       " (0.1, 0.7348111695076108)]"
      ]
     },
     "execution_count": 204,
     "metadata": {},
     "output_type": "execute_result"
    }
   ],
   "source": [
    "cs_sorted"
   ]
  },
  {
   "cell_type": "code",
   "execution_count": 229,
   "metadata": {},
   "outputs": [
    {
     "data": {
      "text/plain": [
       "1.9157894736842107"
      ]
     },
     "execution_count": 229,
     "metadata": {},
     "output_type": "execute_result"
    }
   ],
   "source": [
    "logit_grid_searcher2.Cs_[5]"
   ]
  },
  {
   "cell_type": "code",
   "execution_count": 230,
   "metadata": {},
   "outputs": [
    {
     "name": "stdout",
     "output_type": "stream",
     "text": [
      "CPU times: user 17min 15s, sys: 53.2 s, total: 18min 8s\n",
      "Wall time: 7min 20s\n"
     ]
    },
    {
     "data": {
      "text/plain": [
       "LogisticRegressionCV(Cs=[1.9157894736842107], class_weight=None,\n",
       "                     cv=StratifiedKFold(n_splits=3, random_state=17, shuffle=True),\n",
       "                     dual=False, fit_intercept=True, intercept_scaling=1.0,\n",
       "                     l1_ratios=None, max_iter=100, multi_class='ovr', n_jobs=-1,\n",
       "                     penalty='l2', random_state=17, refit=True, scoring=None,\n",
       "                     solver='lbfgs', tol=0.0001, verbose=0)"
      ]
     },
     "execution_count": 230,
     "metadata": {},
     "output_type": "execute_result"
    }
   ],
   "source": [
    "%%time\n",
    "logit_cv_150users = LogisticRegressionCV(\n",
    "    Cs=[logit_grid_searcher2.Cs_[5]],\n",
    "    multi_class='ovr',\n",
    "    random_state=17,\n",
    "    n_jobs=-1,\n",
    "    cv=skf)\n",
    "logit_cv_150users.fit(X_train_150, y_train_150)"
   ]
  },
  {
   "cell_type": "markdown",
   "metadata": {},
   "source": [
    "**Посмотрите на средние доли правильных ответов на кросс-валидации в задаче идентификации каждого пользователя по отдельности.**"
   ]
  },
  {
   "cell_type": "code",
   "execution_count": 232,
   "metadata": {
    "scrolled": true
   },
   "outputs": [
    {
     "data": {
      "text/plain": [
       "{6: 0.9960797806345333,\n",
       " 13: 0.9963091551718745,\n",
       " 15: 0.995256117523172,\n",
       " 16: 0.9918467778090561,\n",
       " 28: 0.9903558433163387,\n",
       " 31: 0.9944011760658097,\n",
       " 33: 0.9937651830304547,\n",
       " 39: 0.9859143181841877,\n",
       " 46: 0.9980398903172666,\n",
       " 49: 0.9951935608311699,\n",
       " 50: 0.9943281932584739,\n",
       " 53: 0.9937130524537862,\n",
       " 65: 0.9969451482072295,\n",
       " 66: 0.9948077945638234,\n",
       " 82: 0.9963717118638766,\n",
       " 85: 0.9963717118638766,\n",
       " 89: 0.9908771490830232,\n",
       " 92: 0.994422028296477,\n",
       " 100: 0.9944950111038128,\n",
       " 102: 0.9911586541970326,\n",
       " 103: 0.9805448687873385,\n",
       " 105: 0.9969034437458948,\n",
       " 106: 0.9948494990251583,\n",
       " 118: 0.9909292796596917,\n",
       " 119: 0.9965906602858841,\n",
       " 120: 0.994286488797139,\n",
       " 126: 0.9950684474471657,\n",
       " 127: 0.9916069771563812,\n",
       " 128: 0.9846944626901463,\n",
       " 138: 0.9970598354759,\n",
       " 158: 0.9970598354759,\n",
       " 160: 0.9968200348232252,\n",
       " 165: 0.997362192820577,\n",
       " 172: 0.9964863991325471,\n",
       " 177: 0.9967679042465568,\n",
       " 203: 0.9975707151272508,\n",
       " 207: 0.9877805928289178,\n",
       " 223: 0.9965489558245494,\n",
       " 233: 0.9963195812872082,\n",
       " 235: 0.9966636430932199,\n",
       " 236: 0.9900222076256607,\n",
       " 237: 0.9894174929363068,\n",
       " 238: 0.9962465984798724,\n",
       " 240: 0.9957461449438553,\n",
       " 241: 0.9959650933658629,\n",
       " 242: 0.9951622824851688,\n",
       " 245: 0.9960067978271976,\n",
       " 246: 0.997028557129899,\n",
       " 249: 0.9950058907551634,\n",
       " 252: 0.9964968252478809,\n",
       " 254: 0.9920135956543952,\n",
       " 256: 0.9961110589805345,\n",
       " 258: 0.9959338150198618,\n",
       " 259: 0.9949120557171603,\n",
       " 260: 0.9973934711665781,\n",
       " 261: 0.9897719808576523,\n",
       " 263: 0.9927955543044217,\n",
       " 264: 0.9966010864012178,\n",
       " 269: 0.987175878139564,\n",
       " 270: 0.9894070668209732,\n",
       " 273: 0.994390749950476,\n",
       " 287: 0.9901681732403323,\n",
       " 294: 0.9957461449438553,\n",
       " 298: 0.9912629153503696,\n",
       " 301: 0.9972162272059054,\n",
       " 308: 0.9957044404825206,\n",
       " 315: 0.9975498628965833,\n",
       " 318: 0.9958921105585269,\n",
       " 327: 0.9966427908625525,\n",
       " 332: 0.9968096087078915,\n",
       " 333: 0.9962674507105397,\n",
       " 339: 0.9971223921679022,\n",
       " 340: 0.9967053475545545,\n",
       " 342: 0.99225339630707,\n",
       " 344: 0.9966532169778862,\n",
       " 351: 0.99245149249841,\n",
       " 356: 0.9976019934732517,\n",
       " 361: 0.9965802341705504,\n",
       " 363: 0.9964863991325471,\n",
       " 411: 0.9912316370043684,\n",
       " 417: 0.9967261997852219,\n",
       " 425: 0.9942135059898032,\n",
       " 430: 0.9962674507105399,\n",
       " 435: 0.9970389832452327,\n",
       " 436: 0.9951727086005026,\n",
       " 440: 0.9970389832452327,\n",
       " 444: 0.9978105157799256,\n",
       " 475: 0.9892819534369689,\n",
       " 476: 0.9969868526685642,\n",
       " 486: 0.9954125092531774,\n",
       " 515: 0.9942135059898032,\n",
       " 533: 0.9937964613764558,\n",
       " 561: 0.9844859403834724,\n",
       " 563: 0.9968304609385589,\n",
       " 564: 0.9956835882518532,\n",
       " 568: 0.9917425166557193,\n",
       " 569: 0.9893132317829699,\n",
       " 570: 0.9982901170852752,\n",
       " 573: 0.9907728879296863,\n",
       " 575: 0.9900639120869954,\n",
       " 576: 0.9941718015284685,\n",
       " 580: 0.9867171290648816,\n",
       " 583: 0.9808159477860143,\n",
       " 584: 0.9811808618226935,\n",
       " 600: 0.9914922898877108,\n",
       " 603: 0.9957044404825206,\n",
       " 605: 0.9975290106659159,\n",
       " 640: 0.9972579316672402,\n",
       " 647: 0.9976436979345866,\n",
       " 653: 0.9973934711665781,\n",
       " 664: 0.9952144130618373,\n",
       " 665: 0.9969138698612284,\n",
       " 677: 0.9966323647472187,\n",
       " 692: 0.9969347220918957,\n",
       " 697: 0.9959859455965301,\n",
       " 705: 0.9964342685558788,\n",
       " 722: 0.9947035334104865,\n",
       " 740: 0.996694921439221,\n",
       " 741: 0.9968513131692264,\n",
       " 756: 0.9955793270985164,\n",
       " 780: 0.9965489558245494,\n",
       " 784: 0.9966532169778862,\n",
       " 785: 0.9969555743225631,\n",
       " 797: 0.995756571059189,\n",
       " 812: 0.9949120557171603,\n",
       " 844: 0.9970285571298989,\n",
       " 859: 0.9981337253552699,\n",
       " 868: 0.9965489558245494,\n",
       " 875: 0.9957148665978544,\n",
       " 932: 0.9905018089310104,\n",
       " 996: 0.9933168600711061,\n",
       " 1014: 0.9971328182832359,\n",
       " 1040: 0.9970389832452327,\n",
       " 1054: 0.9964759730172136,\n",
       " 1248: 0.9977375329725898,\n",
       " 1267: 0.9973309144745759,\n",
       " 1299: 0.996924295976562,\n",
       " 1371: 0.9934106951091093,\n",
       " 1797: 0.994891203486493,\n",
       " 1798: 0.99666364309322,\n",
       " 1993: 0.9967991825925578,\n",
       " 2118: 0.9978522202412603,\n",
       " 2174: 0.995860832212526,\n",
       " 2191: 0.9952456914078384,\n",
       " 2250: 0.9973413405899096,\n",
       " 2355: 0.995860832212526,\n",
       " 2408: 0.9937443307997874,\n",
       " 2493: 0.9966010864012178,\n",
       " 2625: 0.9961423373265355,\n",
       " 2902: 0.9971223921679022}"
      ]
     },
     "execution_count": 232,
     "metadata": {},
     "output_type": "execute_result"
    }
   ],
   "source": [
    "cv_scores_by_user = {}\n",
    "for user_id in logit_cv_150users.scores_:\n",
    "#     print('User {}, CV score: {}'.format(user_id, np.mean(logit_cv_150users.scores_[user_id])))\n",
    "    cv_scores_by_user[user_id]  = np.mean(logit_cv_150users.scores_[user_id])\n",
    "cv_scores_by_user"
   ]
  },
  {
   "cell_type": "markdown",
   "metadata": {},
   "source": [
    "**Результаты кажутся впечатляющими, но возможно, мы забываем про дисбаланс классов, и высокую долю правильных ответов можно получить константным прогнозом. Посчитайте для каждого пользователя разницу между долей правильных ответов на кросс-валидации (только что посчитанную с помощью `LogisticRegressionCV`) и долей меток в *y_train_150*, отличных от ID \n",
    " этого пользователя (именно такую долю правильных ответов можно получить, если классификатор всегда \"говорит\", что это не пользователь с номером $i$ в задаче классификации $i$-vs-All).**"
   ]
  },
  {
   "cell_type": "code",
   "execution_count": 233,
   "metadata": {},
   "outputs": [],
   "source": [
    "class_distr = np.bincount(y_train_150.astype('int'))"
   ]
  },
  {
   "cell_type": "code",
   "execution_count": 234,
   "metadata": {},
   "outputs": [
    {
     "data": {
      "text/plain": [
       "95913"
      ]
     },
     "execution_count": 234,
     "metadata": {},
     "output_type": "execute_result"
    }
   ],
   "source": [
    "sum(class_distr)"
   ]
  },
  {
   "cell_type": "code",
   "execution_count": 235,
   "metadata": {},
   "outputs": [
    {
     "data": {
      "text/plain": [
       "array([   0,    0,    0,    0,    0,    0, 1496])"
      ]
     },
     "execution_count": 235,
     "metadata": {},
     "output_type": "execute_result"
    }
   ],
   "source": [
    "class_distr[:7]"
   ]
  },
  {
   "cell_type": "code",
   "execution_count": 236,
   "metadata": {},
   "outputs": [
    {
     "data": {
      "text/plain": [
       "1496"
      ]
     },
     "execution_count": 236,
     "metadata": {},
     "output_type": "execute_result"
    }
   ],
   "source": [
    "class_distr[6]"
   ]
  },
  {
   "cell_type": "code",
   "execution_count": 237,
   "metadata": {},
   "outputs": [
    {
     "data": {
      "text/plain": [
       "0.984402531460803"
      ]
     },
     "execution_count": 237,
     "metadata": {},
     "output_type": "execute_result"
    }
   ],
   "source": [
    "(sum(class_distr)-class_distr[6])/sum(class_distr)"
   ]
  },
  {
   "cell_type": "code",
   "execution_count": 238,
   "metadata": {},
   "outputs": [],
   "source": [
    "class_distr = np.bincount(y_train_150.astype('int'))\n",
    "\n",
    "var = []\n",
    "for user_id in np.unique(y_train_150):\n",
    "    var.append(cv_scores_by_user[user_id] - ((sum(class_distr) - class_distr[user_id])/sum(class_distr)))"
   ]
  },
  {
   "cell_type": "code",
   "execution_count": 239,
   "metadata": {},
   "outputs": [
    {
     "data": {
      "text/plain": [
       "[0.011677249173730253,\n",
       " 0.000604714689353858,\n",
       " 0.0008549414573623126,\n",
       " 0.007131462888242401,\n",
       " 0.0024084326420819036,\n",
       " -5.2130576668418804e-05,\n",
       " 0.0012198554940414663,\n",
       " 0.0020018141440680814,\n",
       " 0.0009174981493643708,\n",
       " 0.0013658211087130834,\n",
       " 0.00017724396067275716,\n",
       " 0.0016681784533899569,\n",
       " 2.0852230667389726e-05,\n",
       " -5.213057666852983e-05,\n",
       " 2.0852230667389726e-05,\n",
       " 0.00017724396067264614,\n",
       " 0.0008028108806940049,\n",
       " 0.0002710789986758444,\n",
       " -0.0002502267680085657,\n",
       " 0.0007194019580243349,\n",
       " 0.003544879213453811,\n",
       " 0.0008862198033635638,\n",
       " 0.007631916424259533,\n",
       " 0.0009279242646983432,\n",
       " 0.0006464191506886374,\n",
       " 0.0006255669200211367,\n",
       " 0.001011333187367791,\n",
       " 0.00409746332613925,\n",
       " 0.005098370398173291,\n",
       " -5.2130576668418804e-05,\n",
       " 0.00028150511400959477,\n",
       " 0.00028150511400959477,\n",
       " 0.00028150511400959477,\n",
       " 0.00022937453734106494,\n",
       " 0.0002710789986759554,\n",
       " 0.0013866733393805841,\n",
       " 0.0014179516853815022,\n",
       " 8.34089226695589e-05,\n",
       " 8.34089226695589e-05,\n",
       " -8.34089226695589e-05,\n",
       " 0.001240707724708856,\n",
       " 0.0014075255700477518,\n",
       " -2.0852230667389726e-05,\n",
       " -3.12783460011401e-05,\n",
       " -0.0001355394993378667,\n",
       " 0.0005004535360170204,\n",
       " 0.00023980065267481532,\n",
       " -9.383503800319826e-05,\n",
       " -9.383503800330928e-05,\n",
       " 0.00019809619134003587,\n",
       " 0.0020956491820712797,\n",
       " 0.0005525841126855502,\n",
       " 0.00017724396067275716,\n",
       " -0.0002710789986758444,\n",
       " 0.00031278346001062385,\n",
       " 0.0006672713813560271,\n",
       " 0.0011990032633740766,\n",
       " 0.00039619238268018275,\n",
       " 0.0014283778007152526,\n",
       " 0.004285133402145758,\n",
       " 0.0006568452660223878,\n",
       " 0.001928831336732162,\n",
       " -0.00020852230667389726,\n",
       " 0.0014909344927173107,\n",
       " 0.0017411612607258764,\n",
       " 0.0007298280733580853,\n",
       " 0.0004378968440148512,\n",
       " 0.0005525841126853281,\n",
       " 1.0426115333639352e-05,\n",
       " -1.0426115333750374e-05,\n",
       " 0.0012928383013771638,\n",
       " 0.0011990032633741876,\n",
       " 0.00019809619133992484,\n",
       " 0.00034406180601176395,\n",
       " -0.00012511338400422733,\n",
       " 0.0014179516853815022,\n",
       " 0.0003857662673464324,\n",
       " -5.2130576668418804e-05,\n",
       " 0.0011885771480403262,\n",
       " 0.0020018141440679704,\n",
       " 9.383503800308723e-05,\n",
       " 5.213057666830778e-05,\n",
       " 0.0010217593027015415,\n",
       " -0.00011468726867058798,\n",
       " 0.00015639173000536744,\n",
       " -5.2130576668418804e-05,\n",
       " 0.0007923847653603655,\n",
       " 0.0012928383013772748,\n",
       " 0.0008549414573624237,\n",
       " 0.0001668178453390068,\n",
       " 0.00022937453734106494,\n",
       " 0.0011572988020394082,\n",
       " 0.003513600867452671,\n",
       " 0.0005213057666844101,\n",
       " 0.0005525841126854392,\n",
       " -8.340892266944788e-05,\n",
       " 0.004264281171478257,\n",
       " 0.0025856766027545497,\n",
       " -0.0001876700760062855,\n",
       " 0.0014596561467161706,\n",
       " -0.0002189484220074256,\n",
       " 0.006234816969545198,\n",
       " 0.014773805427835573,\n",
       " 0.002742068332759917,\n",
       " 0.0008966459186972031,\n",
       " 0.0006464191506886374,\n",
       " 0.0024605632187502113,\n",
       " 0.00021894842200753661,\n",
       " 0.0016264739920553994,\n",
       " 0.00014596561467161706,\n",
       " 0.0006359930353549981,\n",
       " 0.00023980065267481532,\n",
       " 0.0007298280733580853,\n",
       " 6.255669200205816e-05,\n",
       " 0.0007402541886917247,\n",
       " 0.0002502267680085657,\n",
       " 0.0010843159947033776,\n",
       " 0.0008340892266950339,\n",
       " 7.298280733591955e-05,\n",
       " 0.0002710789986758444,\n",
       " 0.0007819586500266151,\n",
       " 0.001699456799391097,\n",
       " -8.34089226695589e-05,\n",
       " 0.0005421579973516888,\n",
       " 0.005411153858184026,\n",
       " 6.255669200205816e-05,\n",
       " 0.0012198554940414663,\n",
       " -0.00022937453734106494,\n",
       " 0.0055779717035230325,\n",
       " 0.002398006526748153,\n",
       " 0.0028359033707631154,\n",
       " 0.0013449688780456936,\n",
       " 0.0018662746447301037,\n",
       " 0.00012511338400433836,\n",
       " 0.00040661849801393313,\n",
       " 0.0003336356906780136,\n",
       " 9.383503800308723e-05,\n",
       " 0.004681325784825829,\n",
       " 0.0031486868307737392,\n",
       " 0.0012302816093752167,\n",
       " 0.0008757936880298134,\n",
       " 0.0015117867233847004,\n",
       " 0.0005108796513507707,\n",
       " 0.0004170446133475725,\n",
       " -9.383503800319826e-05,\n",
       " 0.008424301189619787,\n",
       " 0.001324116647378415,\n",
       " 0.00029193122934334514,\n",
       " 0.0006776974966896665,\n",
       " 0.00207479695140389]"
      ]
     },
     "execution_count": 239,
     "metadata": {},
     "output_type": "execute_result"
    }
   ],
   "source": [
    "var"
   ]
  },
  {
   "cell_type": "code",
   "execution_count": 240,
   "metadata": {},
   "outputs": [
    {
     "data": {
      "text/plain": [
       "127"
      ]
     },
     "execution_count": 240,
     "metadata": {},
     "output_type": "execute_result"
    }
   ],
   "source": [
    "num_better_than_default = (np.array(var)>0).sum()\n",
    "num_better_than_default"
   ]
  },
  {
   "cell_type": "code",
   "execution_count": 187,
   "metadata": {},
   "outputs": [
    {
     "data": {
      "text/plain": [
       "150"
      ]
     },
     "execution_count": 187,
     "metadata": {},
     "output_type": "execute_result"
    }
   ],
   "source": [
    "users_number = len(np.unique(y_train_150))\n",
    "users_number"
   ]
  },
  {
   "cell_type": "code",
   "execution_count": null,
   "metadata": {},
   "outputs": [],
   "source": [
    "num_better_than_default = (np.array(list(acc_diff_vs_constant.values())) > 0).sum()"
   ]
  },
  {
   "cell_type": "code",
   "execution_count": 190,
   "metadata": {},
   "outputs": [
    {
     "data": {
      "text/plain": [
       "0.86"
      ]
     },
     "execution_count": 190,
     "metadata": {},
     "output_type": "execute_result"
    }
   ],
   "source": [
    "129/150"
   ]
  },
  {
   "cell_type": "markdown",
   "metadata": {},
   "source": [
    "**<font color='red'>Вопрос 7. </font> Посчитайте долю пользователей, для которых логистическая регрессия на кросс-валидации дает прогноз лучше константного. Округлите до 3 знаков после запятой.**"
   ]
  },
  {
   "cell_type": "code",
   "execution_count": 163,
   "metadata": {},
   "outputs": [
    {
     "data": {
      "text/plain": [
       "'0.86'"
      ]
     },
     "execution_count": 163,
     "metadata": {},
     "output_type": "execute_result"
    }
   ],
   "source": [
    "a7 = str(round(num_better_than_default/users_number,3))\n",
    "a7"
   ]
  },
  {
   "cell_type": "code",
   "execution_count": 164,
   "metadata": {},
   "outputs": [],
   "source": [
    "write_answer(7,a7)"
   ]
  },
  {
   "cell_type": "code",
   "execution_count": 165,
   "metadata": {},
   "outputs": [
    {
     "name": "stdout",
     "output_type": "stream",
     "text": [
      "0.86"
     ]
    }
   ],
   "source": [
    "!cat task4_7_answer"
   ]
  },
  {
   "cell_type": "markdown",
   "metadata": {},
   "source": [
    "**Дальше будем строить кривые обучения для конкретного пользователя, допустим, для 128-го. Составьте новый бинарный вектор на основе *y_150users*, его значения будут 1 или 0 в зависимости от того, равен ли ID-шник пользователя 128.**"
   ]
  },
  {
   "cell_type": "code",
   "execution_count": null,
   "metadata": {},
   "outputs": [],
   "source": [
    "y_binary_128 = ''' ВАШ КОД ЗДЕСЬ '''"
   ]
  },
  {
   "cell_type": "code",
   "execution_count": null,
   "metadata": {},
   "outputs": [],
   "source": [
    "from sklearn.model_selection import learning_curve\n",
    "\n",
    "def plot_learning_curve(val_train, val_test, train_sizes, \n",
    "                        xlabel='Training Set Size', ylabel='score'):\n",
    "    def plot_with_err(x, data, **kwargs):\n",
    "        mu, std = data.mean(1), data.std(1)\n",
    "        lines = plt.plot(x, mu, '-', **kwargs)\n",
    "        plt.fill_between(x, mu - std, mu + std, edgecolor='none',\n",
    "                         facecolor=lines[0].get_color(), alpha=0.2)\n",
    "    plot_with_err(train_sizes, val_train, label='train')\n",
    "    plot_with_err(train_sizes, val_test, label='valid')\n",
    "    plt.xlabel(xlabel); plt.ylabel(ylabel)\n",
    "    plt.legend(loc='lower right');"
   ]
  },
  {
   "cell_type": "markdown",
   "metadata": {},
   "source": [
    "**Посчитайте доли правильных ответов на кросс-валидации в задаче классификации \"user128-vs-All\" в зависимости от размера выборки. Не помешает посмотреть встроенную документацию для *learning_curve*.**"
   ]
  },
  {
   "cell_type": "code",
   "execution_count": null,
   "metadata": {},
   "outputs": [],
   "source": [
    "%%time\n",
    "train_sizes = np.linspace(0.25, 1, 20)\n",
    "estimator = svm_grid_searcher2.best_estimator_\n",
    "n_train, val_train, val_test = learning_curve ''' ВАШ КОД ЗДЕСЬ '''"
   ]
  },
  {
   "cell_type": "code",
   "execution_count": null,
   "metadata": {},
   "outputs": [],
   "source": [
    "plot_learning_curve(val_train, val_test, n_train, \n",
    "                    xlabel='train_size', ylabel='accuracy')"
   ]
  },
  {
   "cell_type": "markdown",
   "metadata": {},
   "source": [
    "**Сделайте выводы о том, помогут ли алгоритму новые размеченные данные при той же постановке задачи.**"
   ]
  },
  {
   "cell_type": "markdown",
   "metadata": {},
   "source": [
    "## Пути улучшения\n",
    "- конечно, можно проверить еще кучу алгоритмов, например, Xgboost, но в такой задаче очень маловероятно, что что-то справится лучше линейных методов\n",
    "- интересно проверить качество алгоритма на данных, где сессии выделялись не по количеству посещенных сайтов, а по времени, например, 5, 7, 10 и 15 минут. Отдельно стоит отметить данные нашего [соревнования](https://inclass.kaggle.com/c/catch-me-if-you-can-intruder-detection-through-webpage-session-tracking2) \n",
    "- опять же, если ресурсы позволяют, можно проверить, насколько хорошо можно решить задачу для 3000 пользователей\n",
    "\n",
    "\n",
    "На следующей неделе мы вспомним про линейные модели, обучаемые стохастическим градиентным спуском, и порадуемся тому, насколько быстрее они работают. Также сделаем первые (или не первые) посылки в [соревновании](https://inclass.kaggle.com/c/catch-me-if-you-can-intruder-detection-through-webpage-session-tracking2) Kaggle Inclass."
   ]
  }
 ],
 "metadata": {
  "anaconda-cloud": {},
  "kernelspec": {
   "display_name": "Python 2",
   "language": "python",
   "name": "python2"
  },
  "language_info": {
   "codemirror_mode": {
    "name": "ipython",
    "version": 3
   },
   "file_extension": ".py",
   "mimetype": "text/x-python",
   "name": "python",
   "nbconvert_exporter": "python",
   "pygments_lexer": "ipython3",
   "version": "3.7.6"
  },
  "toc": {
   "base_numbering": 1,
   "nav_menu": {},
   "number_sections": true,
   "sideBar": true,
   "skip_h1_title": false,
   "title_cell": "Table of Contents",
   "title_sidebar": "Contents",
   "toc_cell": false,
   "toc_position": {
    "height": "calc(100% - 180px)",
    "left": "10px",
    "top": "150px",
    "width": "388.25px"
   },
   "toc_section_display": true,
   "toc_window_display": true
  }
 },
 "nbformat": 4,
 "nbformat_minor": 1
}
